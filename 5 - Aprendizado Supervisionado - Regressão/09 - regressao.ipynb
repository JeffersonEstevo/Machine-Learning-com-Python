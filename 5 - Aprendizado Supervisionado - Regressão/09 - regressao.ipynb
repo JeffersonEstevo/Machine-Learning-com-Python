{
  "cells": [
    {
      "cell_type": "markdown",
      "metadata": {
        "id": "fQJ5CYV9Te0X"
      },
      "source": [
        "# **APRENDIZAGEM SUPERVISIONADA: REGRESSÃO**"
      ]
    },
    {
      "cell_type": "markdown",
      "metadata": {
        "id": "kXFCCsVHTtTP"
      },
      "source": [
        "Este projeto tem por objetivo desenvolver um algoritmo de Machine Learning para prever o valor do preço médio de casas em Boston."
      ]
    },
    {
      "cell_type": "markdown",
      "metadata": {
        "id": "5ZQ2nYhQUc3G"
      },
      "source": [
        "Os dados foram extraídos do site do Kaggle:\n",
        "\n",
        "https://www.kaggle.com/schirmerchad/bostonhoustingmlnd"
      ]
    },
    {
      "cell_type": "code",
      "execution_count": null,
      "metadata": {
        "id": "nWvIcticlCs2"
      },
      "outputs": [],
      "source": [
        "import numpy as np\n",
        "import pandas as pd"
      ]
    },
    {
      "cell_type": "code",
      "execution_count": null,
      "metadata": {
        "id": "LRIrwcC8kUhT"
      },
      "outputs": [],
      "source": [
        "df = pd.read_csv('/content/drive/MyDrive/Cursos_Udemy/Machine_Learning_com_Python/housing.csv',\n",
        "                    sep=',', encoding='iso-8859-1')"
      ]
    },
    {
      "cell_type": "code",
      "execution_count": null,
      "metadata": {
        "id": "QtugliripIyp"
      },
      "outputs": [],
      "source": [
        "df.head()"
      ]
    },
    {
      "cell_type": "markdown",
      "metadata": {
        "id": "BxBX5HD17FZn"
      },
      "source": [
        "**Atributos previsores**\n",
        "\n",
        "RM: é o número médio de cômodos entre os imóveis no bairro.\n",
        "\n",
        "LSTAT: é a porcentagem de proprietários no bairro considerados de \"classe baixa\" (proletariado).\n",
        "\n",
        "PTRATIO: é a razão entre estudantes e professores nas escolas de ensino fundamental e médio no bairro.\n",
        "\n",
        "**Variável alvo**\n",
        "\n",
        "MEDV: valor médio das casas"
      ]
    },
    {
      "cell_type": "code",
      "execution_count": null,
      "metadata": {
        "id": "-pOctrVgQWpa"
      },
      "outputs": [],
      "source": [
        "df.shape"
      ]
    },
    {
      "cell_type": "markdown",
      "metadata": {
        "id": "HxaCUHTyTqsg"
      },
      "source": [
        "## **EXPLORAÇÃO E TRATAMENTO DOS DADOS**"
      ]
    },
    {
      "cell_type": "markdown",
      "metadata": {
        "id": "3lk5kf4eZ_sL"
      },
      "source": [
        "Valores Missing (NAN)"
      ]
    },
    {
      "cell_type": "code",
      "execution_count": null,
      "metadata": {
        "id": "A24U7d5QYPaV"
      },
      "outputs": [],
      "source": [
        "# RELAÇÃO DA QUANTIDADE\n",
        "df.isnull().sum()"
      ]
    },
    {
      "cell_type": "markdown",
      "metadata": {
        "id": "Q_4_5j4Vlz2j"
      },
      "source": [
        "**Análise dos tipos de atributos.**"
      ]
    },
    {
      "cell_type": "code",
      "execution_count": null,
      "metadata": {
        "id": "wopAqivQXpqI"
      },
      "outputs": [],
      "source": [
        "# object: strings\n",
        "# int64: inteiros\n",
        "# float64: reais\n",
        "# complex: complexos\n",
        "df.dtypes"
      ]
    },
    {
      "cell_type": "markdown",
      "metadata": {
        "id": "GmQ0oYyVTYOv"
      },
      "source": [
        "**Dados Estatísticos**"
      ]
    },
    {
      "cell_type": "code",
      "execution_count": null,
      "metadata": {
        "id": "BE2XqrzRS8Zo"
      },
      "outputs": [],
      "source": [
        "df.describe()"
      ]
    },
    {
      "cell_type": "markdown",
      "metadata": {
        "id": "BjC9JIo5jJ79"
      },
      "source": [
        "**Análise dos outliers**"
      ]
    },
    {
      "cell_type": "code",
      "execution_count": null,
      "metadata": {
        "id": "9pBh8XgzjJOX"
      },
      "outputs": [],
      "source": [
        "import plotly.express as px"
      ]
    },
    {
      "cell_type": "code",
      "execution_count": null,
      "metadata": {
        "id": "R3RYMYZ0jQgO"
      },
      "outputs": [],
      "source": [
        "boxplot = px.box(df, y=\"RM\")\n",
        "boxplot.show()"
      ]
    },
    {
      "cell_type": "code",
      "execution_count": null,
      "metadata": {
        "id": "QNJ0er6fROyJ"
      },
      "outputs": [],
      "source": [
        "boxplot = px.box(df, y=\"LSTAT\")\n",
        "boxplot.show()"
      ]
    },
    {
      "cell_type": "code",
      "execution_count": null,
      "metadata": {
        "id": "xQXSjXoSRqTg"
      },
      "outputs": [],
      "source": [
        "boxplot = px.box(df, y=\"PTRATIO\")\n",
        "boxplot.show()"
      ]
    },
    {
      "cell_type": "code",
      "execution_count": null,
      "metadata": {
        "id": "B9amK0_pR1Je"
      },
      "outputs": [],
      "source": [
        "boxplot = px.box(df, y=\"MEDV\")\n",
        "boxplot.show()"
      ]
    },
    {
      "cell_type": "markdown",
      "metadata": {
        "id": "1_UXHtabUPkP"
      },
      "source": [
        "## **CORRELAÇÃO LINEAR**"
      ]
    },
    {
      "cell_type": "code",
      "execution_count": null,
      "metadata": {
        "id": "KndAusGtsT7N"
      },
      "outputs": [],
      "source": [
        "df.head(2)"
      ]
    },
    {
      "cell_type": "markdown",
      "metadata": {
        "id": "QDtXzr4JsYGS"
      },
      "source": [
        "**Atributos previsores**\n",
        "\n",
        "RM: é o número médio de cômodos entre os imóveis no bairro.\n",
        "\n",
        "LSTAT: é a porcentagem de proprietários no bairro considerados de \"classe baixa\" (proletariado).\n",
        "\n",
        "PTRATIO: é a razão entre estudantes e professores nas escolas de ensino fundamental e médio no bairro.\n",
        "\n",
        "**Variável alvo**\n",
        "\n",
        "MEDV: valor médio das casas"
      ]
    },
    {
      "cell_type": "code",
      "execution_count": null,
      "metadata": {
        "id": "lIg7QtoMUNo5"
      },
      "outputs": [],
      "source": [
        "import matplotlib.pyplot as plt"
      ]
    },
    {
      "cell_type": "code",
      "execution_count": null,
      "metadata": {
        "id": "xdvIffKTUZ49"
      },
      "outputs": [],
      "source": [
        "plt.scatter(df.RM, df.MEDV)\n",
        "plt.title('Correlação Linear')\n",
        "plt.xlabel('Quantidade Média de Cômodos')\n",
        "plt.ylabel('Valor Médio')\n",
        "plt.grid(False)"
      ]
    },
    {
      "cell_type": "code",
      "execution_count": null,
      "metadata": {
        "id": "g8j-uHDFU-QF"
      },
      "outputs": [],
      "source": [
        "plt.scatter(df.LSTAT, df.MEDV)\n",
        "plt.title('Correlação Linear')\n",
        "plt.xlabel('Quantidade Classe Baixa (%)')\n",
        "plt.ylabel('Valor Médio')\n",
        "plt.grid(True)\n"
      ]
    },
    {
      "cell_type": "code",
      "execution_count": null,
      "metadata": {
        "id": "Onmpw86_Vqct"
      },
      "outputs": [],
      "source": [
        "plt.scatter(df.PTRATIO, df.MEDV)\n",
        "plt.title('Correlação Linear')\n",
        "plt.xlabel('Estudantes/Professores')\n",
        "plt.ylabel('Valor Médio')\n",
        "plt.grid(False)"
      ]
    },
    {
      "cell_type": "code",
      "execution_count": null,
      "metadata": {
        "id": "ZW3RE6_uDzE2"
      },
      "outputs": [],
      "source": [
        "import seaborn as sns"
      ]
    },
    {
      "cell_type": "code",
      "execution_count": null,
      "metadata": {
        "id": "3K5Ee3sED1YO"
      },
      "outputs": [],
      "source": [
        "sns.pairplot(df);"
      ]
    },
    {
      "cell_type": "markdown",
      "metadata": {
        "id": "_dOyeKE2AesY"
      },
      "source": [
        "### Análise da Normalidade"
      ]
    },
    {
      "cell_type": "markdown",
      "metadata": {
        "id": "U4MnqZjNG_29"
      },
      "source": [
        "Gráfico QQ-Plot"
      ]
    },
    {
      "cell_type": "code",
      "execution_count": null,
      "metadata": {
        "id": "o3lb2FS7A9MU"
      },
      "outputs": [],
      "source": [
        "import scipy.stats as stats"
      ]
    },
    {
      "cell_type": "code",
      "execution_count": null,
      "metadata": {
        "id": "LD3otdF6G8D1"
      },
      "outputs": [],
      "source": [
        "stats.probplot(df['MEDV'], dist=\"norm\", plot=plt)\n",
        "plt.title(\"Normal Q-Q plot\")\n",
        "plt.show()"
      ]
    },
    {
      "cell_type": "code",
      "execution_count": null,
      "metadata": {
        "id": "lDLCKa3ZSq1b"
      },
      "outputs": [],
      "source": [
        "import plotly.express as px"
      ]
    },
    {
      "cell_type": "code",
      "execution_count": null,
      "metadata": {
        "id": "JxIib1HfSJxN"
      },
      "outputs": [],
      "source": [
        "hist =  px.histogram (df,  x = \"MEDV\", nbins=60)\n",
        "hist.update_layout(width=800,height=500,title_text='Média dos valores')\n",
        "hist.show()"
      ]
    },
    {
      "cell_type": "code",
      "execution_count": null,
      "metadata": {
        "id": "-WaQDC6xHOzU"
      },
      "outputs": [],
      "source": [
        "stats.probplot(df['RM'], dist=\"norm\", plot=plt)\n",
        "plt.title(\"Normal Q-Q plot\")\n",
        "plt.show()"
      ]
    },
    {
      "cell_type": "code",
      "execution_count": null,
      "metadata": {
        "id": "DAr20mqI2FlH"
      },
      "outputs": [],
      "source": [
        "hist =  px.histogram (df,  x = \"RM\", nbins=40)\n",
        "hist.update_layout(width=800,height=500,title_text='Quantidade de cômodos')\n",
        "hist.show()"
      ]
    },
    {
      "cell_type": "code",
      "execution_count": null,
      "metadata": {
        "id": "C-ZHKF9O0vgj"
      },
      "outputs": [],
      "source": [
        "stats.probplot(df['LSTAT'], dist=\"norm\", plot=plt)\n",
        "plt.title(\"Normal Q-Q plot\")\n",
        "plt.show()"
      ]
    },
    {
      "cell_type": "code",
      "execution_count": null,
      "metadata": {
        "id": "t_DuX1wV2XTX"
      },
      "outputs": [],
      "source": [
        "hist =  px.histogram (df,  x = \"LSTAT\", nbins=60)\n",
        "hist.update_layout(width=800,height=500,title_text='Quantidade de Classe Baixa (%)')\n",
        "hist.show()"
      ]
    },
    {
      "cell_type": "code",
      "execution_count": null,
      "metadata": {
        "id": "JJdjZnSj07ih"
      },
      "outputs": [],
      "source": [
        "stats.probplot(df['PTRATIO'], dist=\"norm\", plot=plt)\n",
        "plt.title(\"Normal Q-Q plot\")\n",
        "plt.show()"
      ]
    },
    {
      "cell_type": "code",
      "execution_count": null,
      "metadata": {
        "id": "WfcMWw032ojE"
      },
      "outputs": [],
      "source": [
        "hist =  px.histogram (df,  x = \"PTRATIO\", nbins=60)\n",
        "hist.update_layout(width=800,height=500,title_text='Relação Estudantes/Professores')\n",
        "hist.show()"
      ]
    },
    {
      "cell_type": "markdown",
      "metadata": {
        "id": "b38jbpVpBSrN"
      },
      "source": [
        "Teste Shapiro-Wilk"
      ]
    },
    {
      "cell_type": "markdown",
      "metadata": {
        "id": "UBCGqxZiCKzR"
      },
      "source": [
        "Ho = distribuição normal : p > 0.05\n",
        "\n",
        "Ha = distribuição != normal : p <= 0.05"
      ]
    },
    {
      "cell_type": "code",
      "execution_count": null,
      "metadata": {
        "id": "5wcDiCVBL5Ax"
      },
      "outputs": [],
      "source": [
        "stats.shapiro(df.MEDV)"
      ]
    },
    {
      "cell_type": "code",
      "execution_count": null,
      "metadata": {
        "id": "wxg4KYhAAqIP"
      },
      "outputs": [],
      "source": [
        "estatistica, p = stats.shapiro(df.MEDV)\n",
        "print('Estatística do teste: {}'.format(estatistica))\n",
        "print('p-valor: {}'.format(p))"
      ]
    },
    {
      "cell_type": "code",
      "execution_count": null,
      "metadata": {
        "id": "2CtpuM8PFyio"
      },
      "outputs": [],
      "source": [
        "estatistica, p = stats.shapiro(df.RM)\n",
        "print('Estatística do teste: {}'.format(estatistica))\n",
        "print('p-valor: {}'.format(p))"
      ]
    },
    {
      "cell_type": "code",
      "execution_count": null,
      "metadata": {
        "id": "0-fjsQBK3id7"
      },
      "outputs": [],
      "source": [
        "estatistica, p = stats.shapiro(df.LSTAT)\n",
        "print('Estatística do teste: {}'.format(estatistica))\n",
        "print('p-valor: {}'.format(p))"
      ]
    },
    {
      "cell_type": "code",
      "execution_count": null,
      "metadata": {
        "id": "Qmbgy-Ie3id8"
      },
      "outputs": [],
      "source": [
        "estatistica, p = stats.shapiro(df.PTRATIO)\n",
        "print('Estatística do teste: {}'.format(estatistica))\n",
        "print('p-valor: {}'.format(p))"
      ]
    },
    {
      "cell_type": "markdown",
      "metadata": {
        "id": "V6bxiYpYJmKS"
      },
      "source": [
        "Teste Lilliefors (Kolmogorov_Sminorv)"
      ]
    },
    {
      "cell_type": "markdown",
      "metadata": {
        "id": "qmzqzC03JvHk"
      },
      "source": [
        "Ho = distribuição normal : p > 0.05\n",
        "\n",
        "Ha = distribuição != normal : p <= 0.05"
      ]
    },
    {
      "cell_type": "code",
      "execution_count": null,
      "metadata": {
        "id": "-FABb4nSJlXf"
      },
      "outputs": [],
      "source": [
        "import statsmodels\n",
        "from statsmodels.stats.diagnostic import lilliefors"
      ]
    },
    {
      "cell_type": "code",
      "execution_count": null,
      "metadata": {
        "id": "YAxevGrNJuT5"
      },
      "outputs": [],
      "source": [
        "estatistica, p = statsmodels.stats.diagnostic.lilliefors(df.MEDV, dist = 'norm')\n",
        "print('Estatística de teste: {}'.format(estatistica))\n",
        "print('p-valor: {}'.format(p))"
      ]
    },
    {
      "cell_type": "code",
      "execution_count": null,
      "metadata": {
        "id": "B1MzwpxfMZHm"
      },
      "outputs": [],
      "source": [
        "estatistica, p = statsmodels.stats.diagnostic.lilliefors(df.RM, dist = 'norm')\n",
        "print('Estatística de teste: {}'.format(estatistica))\n",
        "print('p-valor: {}'.format(p))"
      ]
    },
    {
      "cell_type": "markdown",
      "metadata": {
        "id": "uq5tgQBfnKEW"
      },
      "source": [
        "### Correlação Linear"
      ]
    },
    {
      "cell_type": "markdown",
      "metadata": {
        "id": "AINeGYMRQPdW"
      },
      "source": [
        "Pearson (distribuição normal)\n",
        "\n",
        "Spearman (distribuição não normal)\n",
        "\n",
        "Kendall (distribuição não normal com quantidade pequena de amostras)"
      ]
    },
    {
      "cell_type": "markdown",
      "metadata": {
        "id": "zqLl2LgkQbs3"
      },
      "source": [
        "Ho = não há corrrelação linear: p > 0,05\n",
        "\n",
        "Ha = existe correlação linear: p <= 0,05"
      ]
    },
    {
      "cell_type": "code",
      "execution_count": null,
      "metadata": {
        "id": "c0Qs5Jf2UR_1"
      },
      "outputs": [],
      "source": [
        "# Pearson\n",
        "#coef,p = stats.pearsonr(df.MEDV, df.RM)\n",
        "#print('Coeficiente de correlação: {}'.format(coef))\n",
        "#print('p-valor: {}'.format(p))"
      ]
    },
    {
      "cell_type": "code",
      "execution_count": null,
      "metadata": {
        "id": "K1dnDGnDVMQU"
      },
      "outputs": [],
      "source": [
        "# Spearman\n",
        "coef,p = stats.spearmanr(df.MEDV, df.PTRATIO)\n",
        "print('Coeficiente de correlação: {}'.format(coef))\n",
        "print('p-valor: {}'.format(p))"
      ]
    },
    {
      "cell_type": "code",
      "execution_count": null,
      "metadata": {
        "id": "rx0tZdc3VWBC"
      },
      "outputs": [],
      "source": [
        "# Kendall\n",
        "#coef,p = stats.kendalltau(df.MEDV,df.RM)\n",
        "#print('Coeficiente de correlação: {}'.format(coef))\n",
        "#print('p-valor: {}'.format(p))"
      ]
    },
    {
      "cell_type": "code",
      "execution_count": null,
      "metadata": {
        "id": "w6Wcby_cRHHg"
      },
      "outputs": [],
      "source": [
        "correlacoes = df.corr(method='spearman')\n",
        "correlacoes"
      ]
    },
    {
      "cell_type": "code",
      "execution_count": null,
      "metadata": {
        "id": "eaiZhH-XRisc"
      },
      "outputs": [],
      "source": [
        "plt.figure()\n",
        "sns.heatmap(correlacoes, annot=True);"
      ]
    },
    {
      "cell_type": "markdown",
      "metadata": {
        "id": "S3Hp7kQK9KaY"
      },
      "source": [
        "## **REGRESSÃO LINEAR SIMPLES**"
      ]
    },
    {
      "cell_type": "markdown",
      "metadata": {
        "id": "x7ruW5bkQhrR"
      },
      "source": [
        "https://scikit-learn.org/stable/modules/generated/sklearn.linear_model.LinearRegression.html"
      ]
    },
    {
      "cell_type": "markdown",
      "metadata": {
        "id": "Btt5b0gt0tAz"
      },
      "source": [
        "### Valor médio (MEDV) em função do número de cômodos (RM)"
      ]
    },
    {
      "cell_type": "code",
      "execution_count": null,
      "metadata": {
        "id": "uTt4DY04DavB"
      },
      "outputs": [],
      "source": [
        "df.head(2)"
      ]
    },
    {
      "cell_type": "code",
      "execution_count": null,
      "metadata": {
        "id": "r-ghCIWu0PM0"
      },
      "outputs": [],
      "source": [
        "x1 = df.iloc[:,0:1].values\n",
        "x1"
      ]
    },
    {
      "cell_type": "code",
      "execution_count": null,
      "metadata": {
        "id": "7S0eXs3R0dZe"
      },
      "outputs": [],
      "source": [
        "y = df.iloc[:, 3].values\n",
        "y"
      ]
    },
    {
      "cell_type": "code",
      "execution_count": null,
      "metadata": {
        "id": "xH25j9ap18Xu"
      },
      "outputs": [],
      "source": [
        "from sklearn.model_selection import train_test_split\n",
        "x_treino, x_teste, y_treino, y_teste = train_test_split(x1, y, test_size = 0.3, random_state = 10)"
      ]
    },
    {
      "cell_type": "code",
      "execution_count": null,
      "metadata": {
        "id": "Bsws9Z2P2Nug"
      },
      "outputs": [],
      "source": [
        "x_treino.shape, y_treino.shape"
      ]
    },
    {
      "cell_type": "code",
      "execution_count": null,
      "metadata": {
        "id": "bMjUYmZu2VEj"
      },
      "outputs": [],
      "source": [
        "x_teste.shape, y_teste.shape"
      ]
    },
    {
      "cell_type": "code",
      "execution_count": null,
      "metadata": {
        "id": "vEBGIvlQa41o"
      },
      "outputs": [],
      "source": [
        "from sklearn.linear_model import LinearRegression"
      ]
    },
    {
      "cell_type": "code",
      "execution_count": null,
      "metadata": {
        "id": "A-iqvnKk2bnf"
      },
      "outputs": [],
      "source": [
        "reg_linear1 = LinearRegression()\n",
        "reg_linear1.fit(x_treino, y_treino)"
      ]
    },
    {
      "cell_type": "code",
      "execution_count": null,
      "metadata": {
        "id": "2bX8QM8S2ntL"
      },
      "outputs": [],
      "source": [
        "# Intercepto (coeficiente linear)\n",
        "reg_linear1.intercept_"
      ]
    },
    {
      "cell_type": "code",
      "execution_count": null,
      "metadata": {
        "id": "ZRr5GJ8l2sQs"
      },
      "outputs": [],
      "source": [
        "# Coeficiente Angular\n",
        "reg_linear1.coef_"
      ]
    },
    {
      "cell_type": "markdown",
      "metadata": {
        "id": "uGC5B9gnO-oZ"
      },
      "source": [
        "**Equação: Valor = -626510,27 + 173771,45.número_cômodos**"
      ]
    },
    {
      "cell_type": "code",
      "execution_count": null,
      "metadata": {
        "id": "GpTQY7812wpM"
      },
      "outputs": [],
      "source": [
        "# Coeficiente de Determinação dados de treino\n",
        "reg_linear1.score(x_treino, y_treino)"
      ]
    },
    {
      "cell_type": "code",
      "execution_count": null,
      "metadata": {
        "id": "1EG8Tvie28UO"
      },
      "outputs": [],
      "source": [
        "# Coeficiente de Determinação dados de teste\n",
        "reg_linear1.score(x_teste, y_teste)"
      ]
    },
    {
      "cell_type": "code",
      "execution_count": null,
      "metadata": {
        "id": "kL8XhAwQ3EbM"
      },
      "outputs": [],
      "source": [
        "previsoes_treino = reg_linear1.predict(x_treino)\n",
        "previsoes_treino"
      ]
    },
    {
      "cell_type": "code",
      "execution_count": null,
      "metadata": {
        "id": "0nRoU5nmvNLn"
      },
      "outputs": [],
      "source": [
        "import matplotlib.pyplot as plt"
      ]
    },
    {
      "cell_type": "code",
      "execution_count": null,
      "metadata": {
        "id": "t3hTUF7HzVC5"
      },
      "outputs": [],
      "source": [
        "plt.scatter(y=y_treino, x=x_treino, color='blue', s=10, alpha=0.9)\n",
        "X_plot = np.linspace(3, 9)\n",
        "plt.plot(X_plot, X_plot*reg_linear1.coef_ + reg_linear1.intercept_, color='r')\n",
        "plt.title('Reta de regressão')\n",
        "plt.ylabel('Valor Médio')\n",
        "plt.xlabel('Quantidade Média de Cômodos')\n",
        "plt.show()"
      ]
    },
    {
      "cell_type": "code",
      "execution_count": null,
      "metadata": {
        "id": "4KLbSxAg5oiQ"
      },
      "outputs": [],
      "source": [
        "previsoes_teste = reg_linear1.predict(x_teste)\n",
        "previsoes_teste"
      ]
    },
    {
      "cell_type": "code",
      "execution_count": null,
      "metadata": {
        "id": "XZtf_4mq5wLy"
      },
      "outputs": [],
      "source": [
        "y_teste"
      ]
    },
    {
      "cell_type": "code",
      "execution_count": null,
      "metadata": {
        "id": "6v_GM2AQ8KdP"
      },
      "outputs": [],
      "source": [
        "plt.scatter(y=y_teste, x=x_teste, color='blue', s=10, alpha=0.9)\n",
        "X_plot = np.linspace(4, 9)\n",
        "plt.plot(X_plot, X_plot*reg_linear1.coef_ + reg_linear1.intercept_, color='r')\n",
        "plt.title('Reta de regressão')\n",
        "plt.ylabel('Valor Médio')\n",
        "plt.xlabel('Quantidade de Cômodos')\n",
        "plt.show()"
      ]
    },
    {
      "cell_type": "code",
      "execution_count": null,
      "metadata": {
        "id": "CNrxZVosM5lD"
      },
      "outputs": [],
      "source": [
        "# Fazendo previsões para valores distintos\n",
        "valor_casa = reg_linear1.predict([[4]])\n",
        "valor_casa"
      ]
    },
    {
      "cell_type": "markdown",
      "metadata": {
        "id": "-eU7r8Fs2n5o"
      },
      "source": [
        "**Métricas de Desempenho**"
      ]
    },
    {
      "cell_type": "code",
      "execution_count": null,
      "metadata": {
        "id": "K0vNPhFw2QA_"
      },
      "outputs": [],
      "source": [
        "# Erro absoluto\n",
        "abs(y_teste - previsoes_teste).mean()"
      ]
    },
    {
      "cell_type": "code",
      "execution_count": null,
      "metadata": {
        "id": "0xwitnAQ2QBA"
      },
      "outputs": [],
      "source": [
        "from sklearn.metrics import mean_absolute_error, mean_squared_error"
      ]
    },
    {
      "cell_type": "code",
      "execution_count": null,
      "metadata": {
        "id": "JvV7onBf2QBA"
      },
      "outputs": [],
      "source": [
        "# Erro médio absoluto\n",
        "mean_absolute_error(y_teste, previsoes_teste)"
      ]
    },
    {
      "cell_type": "code",
      "execution_count": null,
      "metadata": {
        "id": "Hsv58lFO2QBB"
      },
      "outputs": [],
      "source": [
        "# Erro quadrático médio\n",
        "mean_squared_error(y_teste, previsoes_teste)"
      ]
    },
    {
      "cell_type": "code",
      "execution_count": null,
      "metadata": {
        "id": "XP8C3lPI2QBC"
      },
      "outputs": [],
      "source": [
        "# Raiz do erro quadrático médio\n",
        "np.sqrt(mean_squared_error(y_teste, previsoes_teste))"
      ]
    },
    {
      "cell_type": "markdown",
      "metadata": {
        "id": "xOvqLq4JDIV1"
      },
      "source": [
        "### Valor médio (MEDV) em função da classe social (LSTAT)"
      ]
    },
    {
      "cell_type": "code",
      "execution_count": null,
      "metadata": {
        "id": "tlTW_OVLD7Gd"
      },
      "outputs": [],
      "source": [
        "df.head(2)"
      ]
    },
    {
      "cell_type": "code",
      "execution_count": null,
      "metadata": {
        "id": "BX3_0k2JDIV-"
      },
      "outputs": [],
      "source": [
        "x2 = df.iloc[:,1:2].values\n",
        "x2"
      ]
    },
    {
      "cell_type": "code",
      "execution_count": null,
      "metadata": {
        "id": "QQxq1rOaDIV-"
      },
      "outputs": [],
      "source": [
        "y = df.iloc[:, 3].values\n",
        "y"
      ]
    },
    {
      "cell_type": "code",
      "execution_count": null,
      "metadata": {
        "id": "fm5tatizDIV-"
      },
      "outputs": [],
      "source": [
        "from sklearn.model_selection import train_test_split\n",
        "x_treino, x_teste, y_treino, y_teste = train_test_split(x2, y, test_size = 0.3, random_state = 10)"
      ]
    },
    {
      "cell_type": "code",
      "execution_count": null,
      "metadata": {
        "id": "Nf4kIFBUDIV-"
      },
      "outputs": [],
      "source": [
        "x_treino.shape, y_treino.shape"
      ]
    },
    {
      "cell_type": "code",
      "execution_count": null,
      "metadata": {
        "id": "1ENZkvJ6DIV_"
      },
      "outputs": [],
      "source": [
        "x_teste.shape, y_teste.shape"
      ]
    },
    {
      "cell_type": "code",
      "execution_count": null,
      "metadata": {
        "id": "pnlHWrMSDIV_"
      },
      "outputs": [],
      "source": [
        "from sklearn.linear_model import LinearRegression\n",
        "reg_linear2 = LinearRegression()\n",
        "reg_linear2.fit(x_treino, y_treino)"
      ]
    },
    {
      "cell_type": "code",
      "execution_count": null,
      "metadata": {
        "id": "sf9TY-nmDIV_"
      },
      "outputs": [],
      "source": [
        "# Intercepto (coeficiente linear)\n",
        "reg_linear2.intercept_"
      ]
    },
    {
      "cell_type": "code",
      "execution_count": null,
      "metadata": {
        "id": "yKxLXHwwDIWA"
      },
      "outputs": [],
      "source": [
        "# Coeficiente Angular\n",
        "reg_linear2.coef_"
      ]
    },
    {
      "cell_type": "markdown",
      "metadata": {
        "id": "egv0y9u3pTN2"
      },
      "source": [
        "**Equação: Valor = 681977,75 - 17263,75.LSTAT**"
      ]
    },
    {
      "cell_type": "code",
      "execution_count": null,
      "metadata": {
        "id": "7rAbcYHrDIWA"
      },
      "outputs": [],
      "source": [
        "# Coeficiente de Determinação dados de treino\n",
        "reg_linear2.score(x_treino, y_treino)"
      ]
    },
    {
      "cell_type": "code",
      "execution_count": null,
      "metadata": {
        "id": "01cMJImBDIWA"
      },
      "outputs": [],
      "source": [
        "previsoes_treino = reg_linear2.predict(x_treino)\n",
        "previsoes_treino"
      ]
    },
    {
      "cell_type": "code",
      "execution_count": null,
      "metadata": {
        "id": "1k8tu9tSDIWA"
      },
      "outputs": [],
      "source": [
        "plt.scatter(y=y_treino, x=x_treino, color='blue', s=10, alpha=0.9)\n",
        "X_plot = np.linspace(0, 40)\n",
        "plt.plot(X_plot, X_plot*reg_linear2.coef_ + reg_linear2.intercept_, color='r')\n",
        "plt.title('Reta de regressão')\n",
        "plt.ylabel('Valor Médio')\n",
        "plt.xlabel('Quantidade de Proprietários de Classe Média Baixa (%)')\n",
        "plt.show()"
      ]
    },
    {
      "cell_type": "code",
      "execution_count": null,
      "metadata": {
        "id": "0VULl4HSDIWB"
      },
      "outputs": [],
      "source": [
        "previsoes_teste = reg_linear2.predict(x_teste)\n",
        "previsoes_teste"
      ]
    },
    {
      "cell_type": "code",
      "execution_count": null,
      "metadata": {
        "id": "A0e4uSPQDIWB"
      },
      "outputs": [],
      "source": [
        "y_teste"
      ]
    },
    {
      "cell_type": "code",
      "execution_count": null,
      "metadata": {
        "id": "hBKuKJ8CDIWA"
      },
      "outputs": [],
      "source": [
        "# Coeficiente de Determinação dados de teste\n",
        "reg_linear2.score(x_teste, y_teste)"
      ]
    },
    {
      "cell_type": "code",
      "execution_count": null,
      "metadata": {
        "id": "662tKSwpDIWB"
      },
      "outputs": [],
      "source": [
        "plt.scatter(y=y_teste, x=x_teste, color='blue', s=10, alpha=0.9)\n",
        "X_plot = np.linspace(2, 35)\n",
        "plt.plot(X_plot, X_plot*reg_linear2.coef_ + reg_linear2.intercept_, color='r')\n",
        "plt.title('Reta de regressão')\n",
        "plt.ylabel('Valor Médio')\n",
        "plt.xlabel('Quantidade de Proprietários de Classe Média Baixa (%)')\n",
        "plt.show()"
      ]
    },
    {
      "cell_type": "code",
      "execution_count": null,
      "metadata": {
        "id": "2q9VCdUONwFp"
      },
      "outputs": [],
      "source": [
        "# Fazendo previsões para valores distintos\n",
        "valor_casa = reg_linear2.predict([[25]])\n",
        "valor_casa"
      ]
    },
    {
      "cell_type": "markdown",
      "metadata": {
        "id": "UA65Y6G6DIWB"
      },
      "source": [
        "**Métricas de Desempenho**"
      ]
    },
    {
      "cell_type": "code",
      "execution_count": null,
      "metadata": {
        "id": "QV59JNCnDIWB"
      },
      "outputs": [],
      "source": [
        "# Erro absoluto\n",
        "abs(y_teste - previsoes_teste).mean()"
      ]
    },
    {
      "cell_type": "code",
      "execution_count": null,
      "metadata": {
        "id": "MOv0MSHiDIWC"
      },
      "outputs": [],
      "source": [
        "from sklearn.metrics import mean_absolute_error, mean_squared_error"
      ]
    },
    {
      "cell_type": "code",
      "execution_count": null,
      "metadata": {
        "id": "bc0dZQc7DIWC"
      },
      "outputs": [],
      "source": [
        "# Erro médio Absoluto\n",
        "mean_absolute_error(y_teste, previsoes_teste)"
      ]
    },
    {
      "cell_type": "code",
      "execution_count": null,
      "metadata": {
        "id": "-I9Zi-ZVDIWC"
      },
      "outputs": [],
      "source": [
        "# Erro quadrático médio\n",
        "mean_squared_error(y_teste, previsoes_teste)"
      ]
    },
    {
      "cell_type": "code",
      "execution_count": null,
      "metadata": {
        "id": "io-zNm8VDIWC"
      },
      "outputs": [],
      "source": [
        "# Raiz do erro quadrático médio (RMSE)\n",
        "np.sqrt(mean_squared_error(y_teste, previsoes_teste))"
      ]
    },
    {
      "cell_type": "markdown",
      "metadata": {
        "id": "BsXaKhiVIMGl"
      },
      "source": [
        "### **Validação Cruzada**"
      ]
    },
    {
      "cell_type": "code",
      "execution_count": null,
      "metadata": {
        "id": "lvBuy5bm_qok"
      },
      "outputs": [],
      "source": [
        "from sklearn.model_selection import KFold\n",
        "from sklearn.model_selection import cross_val_score"
      ]
    },
    {
      "cell_type": "code",
      "execution_count": null,
      "metadata": {
        "id": "SS_dyx4x_260"
      },
      "outputs": [],
      "source": [
        "# Separando os dados em folds\n",
        "kfold = KFold(n_splits = 15, shuffle=True, random_state = 5)"
      ]
    },
    {
      "cell_type": "code",
      "execution_count": null,
      "metadata": {
        "id": "K0aqT7kPAf1L"
      },
      "outputs": [],
      "source": [
        "# Criando o modelo\n",
        "from sklearn.linear_model import LinearRegression\n",
        "modelo = LinearRegression()\n",
        "resultado = cross_val_score(modelo, x2, y, cv = kfold)\n",
        "resultado"
      ]
    },
    {
      "cell_type": "code",
      "execution_count": null,
      "metadata": {
        "id": "3Lq7dW7ALUqE"
      },
      "outputs": [],
      "source": [
        "# Usamos a média e o desvio padrão\n",
        "print(\"Coef. determinação Médio: %.2f%%\" % (resultado.mean() * 100.0))"
      ]
    },
    {
      "cell_type": "markdown",
      "metadata": {
        "id": "cmeit_na_AzG"
      },
      "source": [
        "### **Avaliando a Regressão Linear Simples com Statsmodels**"
      ]
    },
    {
      "cell_type": "code",
      "execution_count": null,
      "metadata": {
        "id": "zFuMSGRTG0Nd"
      },
      "outputs": [],
      "source": [
        "import statsmodels.formula.api as smf"
      ]
    },
    {
      "cell_type": "code",
      "execution_count": null,
      "metadata": {
        "id": "fY7Z7YIHg5R8"
      },
      "outputs": [],
      "source": [
        "import matplotlib.pyplot as plt"
      ]
    },
    {
      "cell_type": "code",
      "execution_count": null,
      "metadata": {
        "id": "fwLCyuyifojJ"
      },
      "outputs": [],
      "source": [
        "df.head(2)"
      ]
    },
    {
      "cell_type": "code",
      "execution_count": null,
      "metadata": {
        "id": "Vn6yVWUhfojL"
      },
      "outputs": [],
      "source": [
        "x2 = df.iloc[:,1:2].values\n",
        "x2"
      ]
    },
    {
      "cell_type": "code",
      "execution_count": null,
      "metadata": {
        "id": "Mo5qURSWfojM"
      },
      "outputs": [],
      "source": [
        "y = df.iloc[:, 3].values\n",
        "y"
      ]
    },
    {
      "cell_type": "code",
      "execution_count": null,
      "metadata": {
        "id": "MeznMmquUZk9"
      },
      "outputs": [],
      "source": [
        "# Criação do modelo\n",
        "regressao = smf.ols('y ~ x2', data = df).fit()"
      ]
    },
    {
      "cell_type": "code",
      "execution_count": null,
      "metadata": {
        "id": "9xsQx4tSJ4qs"
      },
      "outputs": [],
      "source": [
        "residuos = regressao.resid\n",
        "residuos"
      ]
    },
    {
      "cell_type": "markdown",
      "metadata": {
        "id": "eAHuUe4jbiP7"
      },
      "source": [
        "#### Teste de Normalidade dos resíduos"
      ]
    },
    {
      "cell_type": "markdown",
      "metadata": {
        "id": "Kwk129HhZNtv"
      },
      "source": [
        "Ho = distribuição normal : p > 0.05\n",
        "\n",
        "Ha = distribuição != normal : p <= 0.05"
      ]
    },
    {
      "cell_type": "code",
      "execution_count": null,
      "metadata": {
        "id": "krlGYS1ZbdqO"
      },
      "outputs": [],
      "source": [
        "estatistica, p = stats.shapiro(residuos)\n",
        "print('Estatística de teste: {}'.format(estatistica))\n",
        "print('p-valor: {}'.format(p))"
      ]
    },
    {
      "cell_type": "code",
      "execution_count": null,
      "metadata": {
        "id": "qEV7aokVhRTa"
      },
      "outputs": [],
      "source": [
        "import scipy.stats as stats"
      ]
    },
    {
      "cell_type": "code",
      "execution_count": null,
      "metadata": {
        "id": "Kt8lZ51mcSec"
      },
      "outputs": [],
      "source": [
        "stats.probplot(residuos, dist=\"norm\", plot=plt)\n",
        "plt.title(\"Normal Q-Q plot - Resíduos\")\n",
        "plt.show()"
      ]
    },
    {
      "cell_type": "markdown",
      "metadata": {
        "id": "xVnnlrFqr2ws"
      },
      "source": [
        "#### Análise da Homocedasticidade dos resíduos\n",
        "(resíduos com variação constante)"
      ]
    },
    {
      "cell_type": "code",
      "execution_count": null,
      "metadata": {
        "id": "z8aZ9dArocJ4"
      },
      "outputs": [],
      "source": [
        "plt.scatter(y=residuos, x=regressao.predict(), color='red')\n",
        "plt.hlines(y=0, xmin=0, xmax=700000, color='orange')\n",
        "plt.ylabel('Resíduos')\n",
        "plt.xlabel('Valores Preditos')\n",
        "plt.show()"
      ]
    },
    {
      "cell_type": "markdown",
      "metadata": {
        "id": "9zkKh9XQcZrJ"
      },
      "source": [
        "Teste Breusch-Pagan (Homocedasticidade ou heterocedasticidade)"
      ]
    },
    {
      "cell_type": "markdown",
      "metadata": {
        "id": "74rj-ZfvcYYO"
      },
      "source": [
        "Ho = existe homocedasticidade : p > 0.05\n",
        "\n",
        "Ha = não existe homocedasticidade : p <= 0.05"
      ]
    },
    {
      "cell_type": "code",
      "execution_count": null,
      "metadata": {
        "id": "2RScGd9LYt83"
      },
      "outputs": [],
      "source": [
        "from statsmodels.compat import lzip\n",
        "import statsmodels.stats.api as sms"
      ]
    },
    {
      "cell_type": "code",
      "execution_count": null,
      "metadata": {
        "id": "Q7dLJFtoYuHS"
      },
      "outputs": [],
      "source": [
        "estatistica, p, f, fp = sms.het_breuschpagan (regressao.resid, regressao.model.exog)\n",
        "print('Estatística de teste: {}'.format(estatistica))\n",
        "print('p-valor: {}'.format(p))\n",
        "print('f-valor: {}'.format(f))\n",
        "print('f_p-valor: {}'.format(fp))"
      ]
    },
    {
      "cell_type": "markdown",
      "metadata": {
        "id": "SX_KI2zSgLyz"
      },
      "source": [
        "#### **Outliers nos resíduos**"
      ]
    },
    {
      "cell_type": "markdown",
      "metadata": {
        "id": "GZ6ZdkvbgghP"
      },
      "source": [
        "(Entre -3 e 3)"
      ]
    },
    {
      "cell_type": "code",
      "execution_count": null,
      "metadata": {
        "id": "-ngGQAjbYuSZ"
      },
      "outputs": [],
      "source": [
        "outliers = regressao.outlier_test()"
      ]
    },
    {
      "cell_type": "code",
      "execution_count": null,
      "metadata": {
        "id": "CcDEfP_MdgFS"
      },
      "outputs": [],
      "source": [
        "outliers.max()"
      ]
    },
    {
      "cell_type": "code",
      "execution_count": null,
      "metadata": {
        "id": "Vd7oXnZ8dgIm"
      },
      "outputs": [],
      "source": [
        "outliers.min()"
      ]
    },
    {
      "cell_type": "markdown",
      "metadata": {
        "id": "cPABWbxog7WL"
      },
      "source": [
        "**Modelo não consistente**"
      ]
    },
    {
      "cell_type": "markdown",
      "metadata": {
        "id": "1syQSo9GnbJN"
      },
      "source": [
        "#### **Modelo de Regressão Linear**"
      ]
    },
    {
      "cell_type": "code",
      "execution_count": null,
      "metadata": {
        "id": "a6NEb27IdgNR"
      },
      "outputs": [],
      "source": [
        "print(regressao.summary())"
      ]
    },
    {
      "cell_type": "markdown",
      "metadata": {
        "id": "-ntti1sDhA48"
      },
      "source": [
        "Estatística t:\n",
        "\n",
        "Ho = coeficiente igual a zero : p > 0,05 (coeficiente não validado)\n",
        "\n",
        "Ha = coeficiente diferente de zero: p <= 0,05 (coeficiente validado)\n",
        "\n",
        "**R^2 ajustado = 0,578**"
      ]
    },
    {
      "cell_type": "code",
      "execution_count": null,
      "metadata": {
        "id": "yJxpCoC6OBiY"
      },
      "outputs": [],
      "source": [
        "coefs = pd.DataFrame(regressao.params)\n",
        "coefs.columns = ['Coeficientes']\n",
        "print(coefs)"
      ]
    },
    {
      "cell_type": "markdown",
      "metadata": {
        "id": "8zMvIckHeOJ7"
      },
      "source": [
        "**Equação: Valor = 684138,49 - 17759.04.LSTAT**"
      ]
    },
    {
      "cell_type": "code",
      "execution_count": null,
      "metadata": {
        "id": "oMBIK34smkWB"
      },
      "outputs": [],
      "source": [
        "regressao.params"
      ]
    },
    {
      "cell_type": "code",
      "execution_count": null,
      "metadata": {
        "id": "LU2iScJE-AkM"
      },
      "outputs": [],
      "source": [
        "df.head()"
      ]
    },
    {
      "cell_type": "code",
      "execution_count": null,
      "metadata": {
        "id": "C4bUw8iijUGO"
      },
      "outputs": [],
      "source": [
        "regressao.predict()"
      ]
    },
    {
      "cell_type": "code",
      "execution_count": null,
      "metadata": {
        "id": "Jj_wMPXyR9g8"
      },
      "outputs": [],
      "source": [
        "plt.scatter(y=df.MEDV, x=df.LSTAT, color='blue', s=30, alpha=0.9)\n",
        "X_plot = np.linspace(0, 40)\n",
        "plt.plot(X_plot, X_plot*regressao.params[1] + regressao.params[0], color='r')\n",
        "plt.title('Reta de regressão')\n",
        "plt.ylabel('Valor da Casa')\n",
        "plt.xlabel('LSTAT')\n",
        "plt.show()"
      ]
    },
    {
      "cell_type": "markdown",
      "metadata": {
        "id": "LmzsbeX5w0lY"
      },
      "source": [
        "## **REGRESSÃO LINEAR MÚLTIPLA**"
      ]
    },
    {
      "cell_type": "code",
      "execution_count": null,
      "metadata": {
        "id": "kgYpMcLwkZUE"
      },
      "outputs": [],
      "source": [
        "from sklearn.linear_model import LinearRegression"
      ]
    },
    {
      "cell_type": "code",
      "execution_count": null,
      "metadata": {
        "id": "f1nrMVmEyqIC"
      },
      "outputs": [],
      "source": [
        "df.head(2)"
      ]
    },
    {
      "cell_type": "code",
      "execution_count": null,
      "metadata": {
        "id": "aX8qGculivhJ"
      },
      "outputs": [],
      "source": [
        "independente = df.iloc[:, 0:3].values\n",
        "independente"
      ]
    },
    {
      "cell_type": "code",
      "execution_count": null,
      "metadata": {
        "id": "M7xlISgSzDMG"
      },
      "outputs": [],
      "source": [
        "independente.shape"
      ]
    },
    {
      "cell_type": "code",
      "execution_count": null,
      "metadata": {
        "id": "Qqq3fnIvjP3R"
      },
      "outputs": [],
      "source": [
        "dependente = df.iloc[:, 3].values\n",
        "dependente"
      ]
    },
    {
      "cell_type": "code",
      "execution_count": null,
      "metadata": {
        "id": "a4AKtgVd9h02"
      },
      "outputs": [],
      "source": [
        "from sklearn.model_selection import train_test_split\n",
        "x_treino, x_teste, y_treino, y_teste = train_test_split(independente, dependente, test_size = 0.3, random_state = 0)"
      ]
    },
    {
      "cell_type": "code",
      "execution_count": null,
      "metadata": {
        "id": "9fw4GK5g9kkj"
      },
      "outputs": [],
      "source": [
        "x_treino.shape, x_teste.shape"
      ]
    },
    {
      "cell_type": "code",
      "execution_count": null,
      "metadata": {
        "id": "WUP3-e_okhcd"
      },
      "outputs": [],
      "source": [
        "multipla = LinearRegression()\n",
        "multipla.fit(x_treino, y_treino)"
      ]
    },
    {
      "cell_type": "code",
      "execution_count": null,
      "metadata": {
        "id": "wTgjt31Ep3NI"
      },
      "outputs": [],
      "source": [
        "multipla.intercept_"
      ]
    },
    {
      "cell_type": "code",
      "execution_count": null,
      "metadata": {
        "id": "9BgX7VTMuv1q"
      },
      "outputs": [],
      "source": [
        "multipla.coef_"
      ]
    },
    {
      "cell_type": "code",
      "execution_count": null,
      "metadata": {
        "id": "8nn9ATOblAPt"
      },
      "outputs": [],
      "source": [
        "print(\"Equação: Valor = {:.2f} + ({:.2f})*RM + ({:.2f})*LSTAT + ({:.2f})*PTRATIO\".format(multipla.intercept_, multipla.coef_[0], multipla.coef_[1], multipla.coef_[2]))"
      ]
    },
    {
      "cell_type": "code",
      "execution_count": null,
      "metadata": {
        "id": "4n_LXotMoJpM"
      },
      "outputs": [],
      "source": [
        "# Coeficiente de Determinação\n",
        "multipla.score(x_treino, y_treino)"
      ]
    },
    {
      "cell_type": "markdown",
      "metadata": {
        "id": "FWKwy4jE18as"
      },
      "source": [
        "**TESTE**"
      ]
    },
    {
      "cell_type": "code",
      "execution_count": null,
      "metadata": {
        "id": "vS3xum5A1-Hw"
      },
      "outputs": [],
      "source": [
        "previsoes = multipla.predict(x_teste)\n",
        "previsoes"
      ]
    },
    {
      "cell_type": "code",
      "execution_count": null,
      "metadata": {
        "id": "Ii_5SXfv2IWa"
      },
      "outputs": [],
      "source": [
        "y_teste"
      ]
    },
    {
      "cell_type": "code",
      "execution_count": null,
      "metadata": {
        "id": "uyGfU-jg5n5A"
      },
      "outputs": [],
      "source": [
        "# Coeficiente de Determinação\n",
        "multipla.score(x_teste, y_teste)"
      ]
    },
    {
      "cell_type": "code",
      "execution_count": null,
      "metadata": {
        "id": "FS1Jm81s7E1t"
      },
      "outputs": [],
      "source": [
        "# Fazendo previsões para valores distintos\n",
        "valor_casa = multipla.predict([[6,20,12]])\n",
        "valor_casa"
      ]
    },
    {
      "cell_type": "markdown",
      "metadata": {
        "id": "sSpkaLa65QBw"
      },
      "source": [
        "**MÉTRICAS**"
      ]
    },
    {
      "cell_type": "code",
      "execution_count": null,
      "metadata": {
        "id": "VzYBRKey3Gx3"
      },
      "outputs": [],
      "source": [
        "# Erro absoluto\n",
        "abs(y_teste - previsoes).mean()"
      ]
    },
    {
      "cell_type": "code",
      "execution_count": null,
      "metadata": {
        "id": "Xe7D9X8T3Gx4"
      },
      "outputs": [],
      "source": [
        "from sklearn.metrics import mean_absolute_error, mean_squared_error"
      ]
    },
    {
      "cell_type": "code",
      "execution_count": null,
      "metadata": {
        "id": "IDgsagJZ3Gx4"
      },
      "outputs": [],
      "source": [
        "# Erro médio Absoluto\n",
        "mean_absolute_error(y_teste, previsoes)"
      ]
    },
    {
      "cell_type": "code",
      "execution_count": null,
      "metadata": {
        "id": "9Ji4rWpd3Gx5"
      },
      "outputs": [],
      "source": [
        "# Erro quadrático médio\n",
        "mean_squared_error(y_teste, previsoes)"
      ]
    },
    {
      "cell_type": "code",
      "execution_count": null,
      "metadata": {
        "id": "T28f1ngx3Gx5"
      },
      "outputs": [],
      "source": [
        "# Raiz do erro quadrático médio\n",
        "np.sqrt(mean_squared_error(y_teste, previsoes))"
      ]
    },
    {
      "cell_type": "markdown",
      "metadata": {
        "id": "gGC6-Oz98SHi"
      },
      "source": [
        "### **Validação Cruzada**"
      ]
    },
    {
      "cell_type": "code",
      "execution_count": null,
      "metadata": {
        "id": "a-BNcrFK8SHj"
      },
      "outputs": [],
      "source": [
        "from sklearn.model_selection import KFold\n",
        "from sklearn.model_selection import cross_val_score"
      ]
    },
    {
      "cell_type": "code",
      "execution_count": null,
      "metadata": {
        "id": "ajx802o98SHk"
      },
      "outputs": [],
      "source": [
        "# Separando os dados em folds\n",
        "kfold = KFold(n_splits = 15, shuffle=True, random_state = 5)"
      ]
    },
    {
      "cell_type": "code",
      "execution_count": null,
      "metadata": {
        "id": "pHsOTmgU8SHl"
      },
      "outputs": [],
      "source": [
        "# Criando o modelo\n",
        "from sklearn.linear_model import LinearRegression\n",
        "modelo = LinearRegression()\n",
        "resultado = cross_val_score(modelo, independente, dependente, cv = kfold)\n",
        "resultado"
      ]
    },
    {
      "cell_type": "code",
      "execution_count": null,
      "metadata": {
        "id": "RdlkoLV38SHl"
      },
      "outputs": [],
      "source": [
        "# Usamos a média e o desvio padrão\n",
        "print(\"Coeficiente de Determinação Médio: %.2f%%\" % (resultado.mean() * 100.0))"
      ]
    },
    {
      "cell_type": "markdown",
      "metadata": {
        "id": "WTK4cOLq93Uh"
      },
      "source": [
        "**REGRESSÃO LINEAR SIMPLES:** R^2 = 0,57/0,60; RMSE = 99315,5; R^2 Validação Cruzada: 55,97%\n",
        "\n",
        "**REGRESSÃO LINEAR MÚLTIPLA:** R^2 = 0,73/0,68; RMSE = 96087,3; R^2 Validação Cruzada: 69,25%"
      ]
    },
    {
      "cell_type": "markdown",
      "metadata": {
        "id": "PCqEHnjrbVXe"
      },
      "source": [
        "### **Avaliando a Regressão Linear Múltipla com Statsmodels**"
      ]
    },
    {
      "cell_type": "code",
      "execution_count": null,
      "metadata": {
        "id": "33t6bYgdy7LC"
      },
      "outputs": [],
      "source": [
        "import statsmodels.formula.api as smf\n",
        "import statsmodels.stats.api as sms"
      ]
    },
    {
      "cell_type": "code",
      "execution_count": null,
      "metadata": {
        "id": "ppyC-CsCcGu7"
      },
      "outputs": [],
      "source": [
        "df.head()"
      ]
    },
    {
      "cell_type": "code",
      "execution_count": null,
      "metadata": {
        "id": "LRJ3RZsQy-2y"
      },
      "outputs": [],
      "source": [
        "# Criação do modelo\n",
        "modelo = smf.ols('MEDV ~ RM + LSTAT + PTRATIO', data = df).fit()"
      ]
    },
    {
      "cell_type": "code",
      "execution_count": null,
      "metadata": {
        "id": "0_4XijxizPdh"
      },
      "outputs": [],
      "source": [
        "residuos = modelo.resid\n",
        "residuos"
      ]
    },
    {
      "cell_type": "markdown",
      "metadata": {
        "id": "3foWvm3_b9xd"
      },
      "source": [
        "#### Teste de Normalidade dos resíduos"
      ]
    },
    {
      "cell_type": "code",
      "execution_count": null,
      "metadata": {
        "id": "lxEZMdHX0Y9Y"
      },
      "outputs": [],
      "source": [
        "import scipy.stats as stats"
      ]
    },
    {
      "cell_type": "markdown",
      "metadata": {
        "id": "KMt9Rnuqb9xe"
      },
      "source": [
        "Ho = distribuição normal : p > 0.05\n",
        "\n",
        "Ha = distribuição != normal : p <= 0.05"
      ]
    },
    {
      "cell_type": "code",
      "execution_count": null,
      "metadata": {
        "id": "k_HEWSq6b9xf"
      },
      "outputs": [],
      "source": [
        "estatistica, p = stats.shapiro(residuos)\n",
        "print('Estatística de teste: {}'.format(estatistica))\n",
        "print('p-valor: {}'.format(p))"
      ]
    },
    {
      "cell_type": "code",
      "execution_count": null,
      "metadata": {
        "id": "U56YLUoi0kSu"
      },
      "outputs": [],
      "source": [
        "import matplotlib.pyplot as plt"
      ]
    },
    {
      "cell_type": "code",
      "execution_count": null,
      "metadata": {
        "id": "-WTK7O-Sb9xg"
      },
      "outputs": [],
      "source": [
        "stats.probplot(residuos, dist=\"norm\", plot=plt)\n",
        "plt.title(\"Normal Q-Q plot - Resíduos\")\n",
        "plt.show()"
      ]
    },
    {
      "cell_type": "markdown",
      "metadata": {
        "id": "ayUUsJ2ub9xh"
      },
      "source": [
        "#### Análise da Homocedasticidade dos resíduos\n",
        "(resíduos com variação constante)"
      ]
    },
    {
      "cell_type": "code",
      "execution_count": null,
      "metadata": {
        "id": "f0XJ3L0kb9xi"
      },
      "outputs": [],
      "source": [
        "plt.scatter(y=residuos, x=modelo.predict(), color='red')\n",
        "plt.hlines(y=0, xmin=0, xmax=900000, color='orange')\n",
        "plt.ylabel('Resíduos')\n",
        "plt.xlabel('Valores Preditos')\n",
        "plt.show()"
      ]
    },
    {
      "cell_type": "markdown",
      "metadata": {
        "id": "q6zC0JTCb9xi"
      },
      "source": [
        "Teste Breusch-Pagan (Homocedasticidade ou heterocedasticidade)"
      ]
    },
    {
      "cell_type": "markdown",
      "metadata": {
        "id": "3D1DR96wb9xj"
      },
      "source": [
        "Ho = existe homocedasticidade : p > 0.05\n",
        "\n",
        "Ha = não existe homocedasticidade : p <= 0.05"
      ]
    },
    {
      "cell_type": "code",
      "execution_count": null,
      "metadata": {
        "id": "ks0IfIFhb9xj"
      },
      "outputs": [],
      "source": [
        "from statsmodels.compat import lzip"
      ]
    },
    {
      "cell_type": "code",
      "execution_count": null,
      "metadata": {
        "id": "6Gfqghirb9xk"
      },
      "outputs": [],
      "source": [
        "estatistica, p, f, fp = sms.het_breuschpagan (modelo.resid, modelo.model.exog)\n",
        "print('Estatística de teste: {}'.format(estatistica))\n",
        "print('p-valor: {}'.format(p))\n",
        "print('f-valor: {}'.format(f))\n",
        "print('f_p-valor: {}'.format(fp))"
      ]
    },
    {
      "cell_type": "markdown",
      "metadata": {
        "id": "us2buFSqdCyP"
      },
      "source": [
        "#### **Outliers nos resíduos**"
      ]
    },
    {
      "cell_type": "markdown",
      "metadata": {
        "id": "MllW6T7tdCyQ"
      },
      "source": [
        "(Entre -3 e 3)"
      ]
    },
    {
      "cell_type": "code",
      "execution_count": null,
      "metadata": {
        "id": "aOZDERDWdCyQ"
      },
      "outputs": [],
      "source": [
        "outliers = modelo.outlier_test()"
      ]
    },
    {
      "cell_type": "code",
      "execution_count": null,
      "metadata": {
        "id": "mDlWpym9dCyQ"
      },
      "outputs": [],
      "source": [
        "outliers.max()"
      ]
    },
    {
      "cell_type": "code",
      "execution_count": null,
      "metadata": {
        "id": "ffcnOdD1dCyR"
      },
      "outputs": [],
      "source": [
        "outliers.min()"
      ]
    },
    {
      "cell_type": "markdown",
      "metadata": {
        "id": "OFTGh67R6Xiv"
      },
      "source": [
        "#### **Ausência de Multicolinearidade**"
      ]
    },
    {
      "cell_type": "markdown",
      "metadata": {
        "id": "SUI8Dj6A6wCr"
      },
      "source": [
        "Somente entre as variáveis independentes.\n",
        "\n",
        "Considerada multicolinearidade quando r > 0.9."
      ]
    },
    {
      "cell_type": "code",
      "execution_count": null,
      "metadata": {
        "id": "LVxFkYw-6W5E"
      },
      "outputs": [],
      "source": [
        "variaveis = df[['RM','LSTAT','PTRATIO']]"
      ]
    },
    {
      "cell_type": "code",
      "execution_count": null,
      "metadata": {
        "id": "9cgwDxfl9Q-r"
      },
      "outputs": [],
      "source": [
        "variaveis.head()"
      ]
    },
    {
      "cell_type": "code",
      "execution_count": null,
      "metadata": {
        "id": "ox1XAWbp7mcD"
      },
      "outputs": [],
      "source": [
        "correlacoes = variaveis.corr(method='pearson')\n",
        "correlacoes"
      ]
    },
    {
      "cell_type": "markdown",
      "metadata": {
        "id": "BmNV4E9bRkrA"
      },
      "source": [
        "#### **Análise do Modelo**"
      ]
    },
    {
      "cell_type": "markdown",
      "metadata": {
        "id": "sQiLvdd-IF64"
      },
      "source": [
        "Intercept\n",
        "\n",
        "p_valor para cada coeficiente < 0,05 (estatisticamente significativos).\n",
        "\n",
        "Adjusted R-squared (explicação do modelo através dos dados).\n",
        "\n",
        "p_valor da estatística F < 0.05 (valida o modelo de regressão)."
      ]
    },
    {
      "cell_type": "code",
      "execution_count": null,
      "metadata": {
        "id": "UlG8rURSIXlr"
      },
      "outputs": [],
      "source": [
        "print(modelo.summary())"
      ]
    },
    {
      "cell_type": "markdown",
      "metadata": {
        "id": "vntw35adIwwO"
      },
      "source": [
        "**Equação:** Valor da casa = 4.155e+05 + 8.657e+04.RM - 1.085e+04.LSTAT - 1.949e+04.PTRATIO"
      ]
    },
    {
      "cell_type": "code",
      "execution_count": null,
      "metadata": {
        "id": "KVp90LWAIvZ-"
      },
      "outputs": [],
      "source": [
        "# Criando uma coluna com previsão\n",
        "df['previsao'] = modelo.fittedvalues"
      ]
    },
    {
      "cell_type": "code",
      "execution_count": null,
      "metadata": {
        "id": "-zeVuxu-KGwN"
      },
      "outputs": [],
      "source": [
        "df.head()"
      ]
    },
    {
      "cell_type": "code",
      "execution_count": null,
      "metadata": {
        "id": "bkZAIUvOAQnD"
      },
      "outputs": [],
      "source": [
        "import seaborn as sns"
      ]
    },
    {
      "cell_type": "code",
      "execution_count": null,
      "metadata": {
        "id": "0o4fnUEkAwsM"
      },
      "outputs": [],
      "source": [
        "sns.lmplot(x='previsao', y='MEDV', data=df);"
      ]
    },
    {
      "cell_type": "markdown",
      "metadata": {
        "id": "l74FqlotBUSo"
      },
      "source": [
        "## **REGRESSÃO POLINOMIAL**"
      ]
    },
    {
      "cell_type": "markdown",
      "metadata": {
        "id": "rxl3wSbjQzmC"
      },
      "source": [
        "https://scikit-learn.org/stable/modules/generated/sklearn.preprocessing.PolynomialFeatures.html"
      ]
    },
    {
      "cell_type": "markdown",
      "metadata": {
        "id": "s6Xb-47Gy2Zu"
      },
      "source": [
        "Valor médio (MEDV) em função do número de cômodos (RM)"
      ]
    },
    {
      "cell_type": "code",
      "execution_count": null,
      "metadata": {
        "id": "iW4QWMUdy2Zw"
      },
      "outputs": [],
      "source": [
        "df.head(2)"
      ]
    },
    {
      "cell_type": "code",
      "execution_count": null,
      "metadata": {
        "id": "iHwBH87Qy2Zx"
      },
      "outputs": [],
      "source": [
        "x1 = df.iloc[:,0:1].values\n",
        "x1"
      ]
    },
    {
      "cell_type": "code",
      "execution_count": null,
      "metadata": {
        "id": "YcPCZ7B2y2Zx"
      },
      "outputs": [],
      "source": [
        "y = df.iloc[:, 3].values\n",
        "y"
      ]
    },
    {
      "cell_type": "code",
      "execution_count": null,
      "metadata": {
        "id": "kN8BGPNuy2Zy"
      },
      "outputs": [],
      "source": [
        "from sklearn.model_selection import train_test_split\n",
        "x_treino, x_teste, y_treino, y_teste = train_test_split(x1, y, test_size = 0.3, random_state = 0)"
      ]
    },
    {
      "cell_type": "code",
      "execution_count": null,
      "metadata": {
        "id": "LnZefisMy2Zz"
      },
      "outputs": [],
      "source": [
        "x_treino.shape, y_treino.shape"
      ]
    },
    {
      "cell_type": "code",
      "execution_count": null,
      "metadata": {
        "id": "4HZbiotXy2Zz"
      },
      "outputs": [],
      "source": [
        "x_teste.shape, y_teste.shape"
      ]
    },
    {
      "cell_type": "code",
      "execution_count": null,
      "metadata": {
        "id": "fYmNDUC70sS-"
      },
      "outputs": [],
      "source": [
        "from sklearn.preprocessing import PolynomialFeatures\n",
        "from sklearn.linear_model import LinearRegression"
      ]
    },
    {
      "cell_type": "code",
      "execution_count": null,
      "metadata": {
        "id": "cJ40XdDp0wa9"
      },
      "outputs": [],
      "source": [
        "# Pré Processamento\n",
        "grau_polinomial =PolynomialFeatures(degree=2)"
      ]
    },
    {
      "cell_type": "code",
      "execution_count": null,
      "metadata": {
        "id": "eaKDcBBa09t8"
      },
      "outputs": [],
      "source": [
        "x_poly = grau_polinomial.fit_transform(x_treino)\n",
        "x_poly"
      ]
    },
    {
      "cell_type": "code",
      "execution_count": null,
      "metadata": {
        "id": "c92sBlGh14g8"
      },
      "outputs": [],
      "source": [
        "polinomial = LinearRegression()"
      ]
    },
    {
      "cell_type": "code",
      "execution_count": null,
      "metadata": {
        "id": "rmcVhyf62D2Z"
      },
      "outputs": [],
      "source": [
        "polinomial.fit(x_poly, y_treino)"
      ]
    },
    {
      "cell_type": "code",
      "execution_count": null,
      "metadata": {
        "id": "6LdCO7pn21oL"
      },
      "outputs": [],
      "source": [
        "previsoes_treino = polinomial.predict(x_poly)"
      ]
    },
    {
      "cell_type": "code",
      "execution_count": null,
      "metadata": {
        "id": "sxO5u0kuBmZZ"
      },
      "outputs": [],
      "source": [
        "polinomial.coef_"
      ]
    },
    {
      "cell_type": "code",
      "execution_count": null,
      "metadata": {
        "id": "45PxFqQJBvJ-"
      },
      "outputs": [],
      "source": [
        "polinomial.intercept_"
      ]
    },
    {
      "cell_type": "markdown",
      "metadata": {
        "id": "gip9Am_QCO5m"
      },
      "source": [
        "**Equação:**\n",
        "\n",
        "Valor = 1640107 - 568528.11*RM + 60092.59*RM^2"
      ]
    },
    {
      "cell_type": "code",
      "execution_count": null,
      "metadata": {
        "id": "90-1bKy_ErzH"
      },
      "outputs": [],
      "source": [
        "numeros = np.linspace(3,9.84,342)\n",
        "numeros"
      ]
    },
    {
      "cell_type": "code",
      "execution_count": null,
      "metadata": {
        "id": "xSHziSI6Ibdw"
      },
      "outputs": [],
      "source": [
        "numeros.shape"
      ]
    },
    {
      "cell_type": "code",
      "execution_count": null,
      "metadata": {
        "id": "1z_fEA9NCMFu"
      },
      "outputs": [],
      "source": [
        "valor = 1640107 -568528.11*numeros + 60092.59*numeros**2"
      ]
    },
    {
      "cell_type": "code",
      "execution_count": null,
      "metadata": {
        "id": "bHC7KVx8BCrF"
      },
      "outputs": [],
      "source": [
        "import matplotlib.pyplot as plt"
      ]
    },
    {
      "cell_type": "code",
      "execution_count": null,
      "metadata": {
        "id": "73IUpLI63J37"
      },
      "outputs": [],
      "source": [
        "plt.scatter(x_treino, y_treino, c = \"gray\")\n",
        "plt.xlabel(\"Quantidade Cômodos\")\n",
        "plt.ylabel(\"Valores das Casas\")\n",
        "plt.title(\"Previsão dos valores das casas: dados de treino\")\n",
        "plt.plot(numeros, valor);"
      ]
    },
    {
      "cell_type": "code",
      "execution_count": null,
      "metadata": {
        "id": "nqXZAgSpM5TL"
      },
      "outputs": [],
      "source": [
        "# Fazendo previsões para valores distintos\n",
        "comodos = 6\n",
        "valor = 1640107 -568528.11*comodos + 60092.59*comodos**2\n",
        "valor"
      ]
    },
    {
      "cell_type": "code",
      "execution_count": null,
      "metadata": {
        "id": "WrsObUUUQse7"
      },
      "outputs": [],
      "source": [
        "# Coeficiente de Determinação dados de treino\n",
        "polinomial.score(x_poly, y_treino)"
      ]
    },
    {
      "cell_type": "markdown",
      "metadata": {
        "id": "YQM-rjYiKIx3"
      },
      "source": [
        "**TESTE**"
      ]
    },
    {
      "cell_type": "code",
      "execution_count": null,
      "metadata": {
        "id": "b26kMsIcKRfc"
      },
      "outputs": [],
      "source": [
        "numeros2 = np.linspace(3,8.88,147)\n",
        "numeros2"
      ]
    },
    {
      "cell_type": "code",
      "execution_count": null,
      "metadata": {
        "id": "QwIONvPaKRfd"
      },
      "outputs": [],
      "source": [
        "numeros2.shape"
      ]
    },
    {
      "cell_type": "code",
      "execution_count": null,
      "metadata": {
        "id": "Jl8S1QHnKRfd"
      },
      "outputs": [],
      "source": [
        "valor2 = 1640107 -568528.11*numeros2 + 60092.59*numeros2**2"
      ]
    },
    {
      "cell_type": "code",
      "execution_count": null,
      "metadata": {
        "id": "CwfK-zZLKRfe"
      },
      "outputs": [],
      "source": [
        "import matplotlib.pyplot as plt"
      ]
    },
    {
      "cell_type": "code",
      "execution_count": null,
      "metadata": {
        "id": "dtf0r1GcKRfe"
      },
      "outputs": [],
      "source": [
        "plt.scatter(x_teste, y_teste, c = \"gray\")\n",
        "plt.xlabel(\"Quantidade Cômodos\")\n",
        "plt.ylabel(\"Valor Casas\")\n",
        "plt.title(\"Previsão dos valores das casas: dados de teste\")\n",
        "plt.plot(numeros2, valor2);"
      ]
    },
    {
      "cell_type": "markdown",
      "source": [
        "**MÉTRICAS DE DESEMPENHO**"
      ],
      "metadata": {
        "id": "xDwzCVrrPMmf"
      }
    },
    {
      "cell_type": "code",
      "source": [
        "prev_y = 1640107 -568528.11*x_teste + 60092.59*x_teste**2"
      ],
      "metadata": {
        "id": "4CmfgxNpNQKc"
      },
      "execution_count": null,
      "outputs": []
    },
    {
      "cell_type": "code",
      "execution_count": null,
      "metadata": {
        "id": "PnDu4Kht7qFI"
      },
      "outputs": [],
      "source": [
        "from sklearn.metrics import mean_absolute_error, mean_squared_error"
      ]
    },
    {
      "cell_type": "code",
      "source": [
        "mean_absolute_error(prev_y, y_teste)"
      ],
      "metadata": {
        "id": "eFzJdeWPMNB0"
      },
      "execution_count": null,
      "outputs": []
    },
    {
      "cell_type": "code",
      "source": [
        "mean_squared_error(prev_y, y_teste)"
      ],
      "metadata": {
        "id": "-CevmrcCOJ0Z"
      },
      "execution_count": null,
      "outputs": []
    },
    {
      "cell_type": "code",
      "source": [
        "np.sqrt(mean_squared_error(prev_y,y_teste))"
      ],
      "metadata": {
        "id": "xDfRqHIqOcpx"
      },
      "execution_count": null,
      "outputs": []
    },
    {
      "cell_type": "markdown",
      "metadata": {
        "id": "N2mEiK4bR-5v"
      },
      "source": [
        "**RESULTADOS:**\n",
        "\n",
        "**REGRESSÃO LINEAR SIMPLES:** R^2 = 0,57/0,60; RMSE = 99315,5; R^2 Validação Cruzada: 55,97%\n",
        "\n",
        "**REGRESSÃO LINEAR MÚLTIPLA:** R^2 = 0,73/0,68; RMSE = 96087,3; R^2 Validação Cruzada: 69,25%\n",
        "\n",
        "**REGRESSÃO POLINOMIAL:** R^2 = 0,59; RMSE = 115628,56"
      ]
    },
    {
      "cell_type": "markdown",
      "metadata": {
        "id": "WX2KnLCzsq7u"
      },
      "source": [
        "## **REGRESSÃO POR VETORES DE SUPORTE**"
      ]
    },
    {
      "cell_type": "markdown",
      "metadata": {
        "id": "X5x2joIiP457"
      },
      "source": [
        "https://scikit-learn.org/stable/modules/generated/sklearn.svm.SVR.html"
      ]
    },
    {
      "cell_type": "code",
      "execution_count": null,
      "metadata": {
        "id": "YUF38EvVtCOS"
      },
      "outputs": [],
      "source": [
        "df.head(2)"
      ]
    },
    {
      "cell_type": "code",
      "execution_count": null,
      "metadata": {
        "id": "m1BCYoD6udBc"
      },
      "outputs": [],
      "source": [
        "independente = df.iloc[:, 0:3].values\n",
        "independente"
      ]
    },
    {
      "cell_type": "code",
      "execution_count": null,
      "metadata": {
        "id": "UrL64jazudBe"
      },
      "outputs": [],
      "source": [
        "independente.shape"
      ]
    },
    {
      "cell_type": "code",
      "execution_count": null,
      "metadata": {
        "id": "BZsXvQGQudBf"
      },
      "outputs": [],
      "source": [
        "dependente = df.iloc[:, 3].values\n",
        "dependente"
      ]
    },
    {
      "cell_type": "code",
      "execution_count": null,
      "metadata": {
        "id": "pJmPpACbudBf"
      },
      "outputs": [],
      "source": [
        "from sklearn.model_selection import train_test_split\n",
        "x_treino, x_teste, y_treino, y_teste = train_test_split(independente, dependente, test_size = 0.3, random_state = 0)"
      ]
    },
    {
      "cell_type": "code",
      "execution_count": null,
      "metadata": {
        "id": "qEOTgfCnudBg"
      },
      "outputs": [],
      "source": [
        "x_treino.shape, x_teste.shape"
      ]
    },
    {
      "cell_type": "code",
      "execution_count": null,
      "metadata": {
        "id": "ZmVCGt-BtGVO"
      },
      "outputs": [],
      "source": [
        "# kernel = rbf, linear, polinomial (poly)\n",
        "from sklearn.svm import SVR\n",
        "SVR = SVR(kernel='rbf')\n",
        "SVR.fit(x_treino,y_treino)"
      ]
    },
    {
      "cell_type": "code",
      "execution_count": null,
      "metadata": {
        "id": "809lWfiEuMiV"
      },
      "outputs": [],
      "source": [
        "SVR.score(x_treino, y_treino)"
      ]
    },
    {
      "cell_type": "code",
      "execution_count": null,
      "metadata": {
        "id": "ZCcstZ8uuUq8"
      },
      "outputs": [],
      "source": [
        "SVR.score(x_teste, y_teste)"
      ]
    },
    {
      "cell_type": "markdown",
      "metadata": {
        "id": "i0tdnZNhxRDj"
      },
      "source": [
        "**Padronização de escala**"
      ]
    },
    {
      "cell_type": "code",
      "execution_count": null,
      "metadata": {
        "id": "vIgPmXt8xRtk"
      },
      "outputs": [],
      "source": [
        "from sklearn.preprocessing import StandardScaler\n",
        "x_scaler = StandardScaler()\n",
        "x_treino_scaler = x_scaler.fit_transform(x_treino)"
      ]
    },
    {
      "cell_type": "code",
      "execution_count": null,
      "metadata": {
        "id": "fc4OD6JdyVks"
      },
      "outputs": [],
      "source": [
        "x_treino_scaler"
      ]
    },
    {
      "cell_type": "code",
      "execution_count": null,
      "metadata": {
        "id": "wyKhCzqexRy0"
      },
      "outputs": [],
      "source": [
        "y_scaler = StandardScaler()\n",
        "y_treino_scaler = y_scaler.fit_transform(y_treino.reshape(-1,1))"
      ]
    },
    {
      "cell_type": "code",
      "execution_count": null,
      "metadata": {
        "id": "uyOhdquuyb2D"
      },
      "outputs": [],
      "source": [
        "y_treino_scaler"
      ]
    },
    {
      "cell_type": "code",
      "execution_count": null,
      "metadata": {
        "id": "IsHYG6i7ygdg"
      },
      "outputs": [],
      "source": [
        "x_teste_scaler = x_scaler.transform(x_teste)\n",
        "x_teste_scaler"
      ]
    },
    {
      "cell_type": "code",
      "execution_count": null,
      "metadata": {
        "id": "P5QgpoYoy_Vq"
      },
      "outputs": [],
      "source": [
        "y_teste_scaler = y_scaler.transform(y_teste.reshape(-1,1))\n",
        "y_teste_scaler"
      ]
    },
    {
      "cell_type": "code",
      "execution_count": null,
      "metadata": {
        "id": "oyhO5h_8zZVJ"
      },
      "outputs": [],
      "source": [
        "from sklearn.svm import SVR\n",
        "SVR2 = SVR(kernel='rbf')\n",
        "SVR2.fit(x_treino_scaler, y_treino_scaler.ravel())\n",
        "\n",
        "# .ravel() é para retornar matriz 1D"
      ]
    },
    {
      "cell_type": "code",
      "execution_count": null,
      "metadata": {
        "id": "-CfJcin_z0ZS"
      },
      "outputs": [],
      "source": [
        "SVR2.score(x_treino_scaler, y_treino_scaler)"
      ]
    },
    {
      "cell_type": "markdown",
      "metadata": {
        "id": "6fHv3HCV0c4U"
      },
      "source": [
        "**TESTE**"
      ]
    },
    {
      "cell_type": "code",
      "execution_count": null,
      "metadata": {
        "id": "UkLzgWpV0cDv"
      },
      "outputs": [],
      "source": [
        "SVR2.score(x_teste_scaler, y_teste_scaler)"
      ]
    },
    {
      "cell_type": "code",
      "execution_count": null,
      "metadata": {
        "id": "tIHtC0NF038o"
      },
      "outputs": [],
      "source": [
        "previsoes_teste = SVR2.predict(x_teste_scaler)\n",
        "previsoes_teste"
      ]
    },
    {
      "cell_type": "code",
      "execution_count": null,
      "metadata": {
        "id": "he5RYWCs1Cvl"
      },
      "outputs": [],
      "source": [
        "y_teste_scaler"
      ]
    },
    {
      "cell_type": "markdown",
      "metadata": {
        "id": "qXiWO2g21N4C"
      },
      "source": [
        "**Revertendo a transformação**"
      ]
    },
    {
      "cell_type": "code",
      "execution_count": null,
      "metadata": {
        "id": "YxYKJhda1QOQ"
      },
      "outputs": [],
      "source": [
        "y_teste_inverse = y_scaler.inverse_transform(y_teste_scaler)\n",
        "previsoes_inverse = y_scaler.inverse_transform(previsoes_teste.reshape(-1, 1))"
      ]
    },
    {
      "cell_type": "code",
      "execution_count": null,
      "metadata": {
        "id": "h5UWcx7U2O4R"
      },
      "outputs": [],
      "source": [
        "y_teste_inverse"
      ]
    },
    {
      "cell_type": "code",
      "execution_count": null,
      "metadata": {
        "id": "gzk4dY8b2RaH"
      },
      "outputs": [],
      "source": [
        "previsoes_inverse"
      ]
    },
    {
      "cell_type": "markdown",
      "metadata": {
        "id": "LIuZtYzy244V"
      },
      "source": [
        "**MÉTRICAS**"
      ]
    },
    {
      "cell_type": "code",
      "execution_count": null,
      "metadata": {
        "id": "xQObOvjP244W"
      },
      "outputs": [],
      "source": [
        "from sklearn.metrics import mean_absolute_error, mean_squared_error"
      ]
    },
    {
      "cell_type": "code",
      "execution_count": null,
      "metadata": {
        "id": "4_JGDXQ_244X"
      },
      "outputs": [],
      "source": [
        "# Erro médio Absoluto\n",
        "mean_absolute_error(y_teste_inverse, previsoes_inverse)"
      ]
    },
    {
      "cell_type": "code",
      "execution_count": null,
      "metadata": {
        "id": "FGawDh_o244Y"
      },
      "outputs": [],
      "source": [
        "# Erro quadrático médio\n",
        "mean_squared_error(y_teste_inverse, previsoes_inverse)"
      ]
    },
    {
      "cell_type": "code",
      "execution_count": null,
      "metadata": {
        "id": "5EwUUep7244Z"
      },
      "outputs": [],
      "source": [
        "# Raiz do erro quadrático médio (RMSE)\n",
        "np.sqrt(mean_squared_error(y_teste_inverse, previsoes_inverse))"
      ]
    },
    {
      "cell_type": "markdown",
      "metadata": {
        "id": "rHDzUmOb35hE"
      },
      "source": [
        "### **Validação Cruzada**"
      ]
    },
    {
      "cell_type": "markdown",
      "metadata": {
        "id": "ebxViZwY3_mH"
      },
      "source": [
        "**Padronização de escala**"
      ]
    },
    {
      "cell_type": "code",
      "execution_count": null,
      "metadata": {
        "id": "AIAuGipc3_mI"
      },
      "outputs": [],
      "source": [
        "from sklearn.preprocessing import StandardScaler\n",
        "x = StandardScaler()\n",
        "independente_scaler = x.fit_transform(independente)"
      ]
    },
    {
      "cell_type": "code",
      "execution_count": null,
      "metadata": {
        "id": "RO4FhcYt3_mI"
      },
      "outputs": [],
      "source": [
        "independente_scaler"
      ]
    },
    {
      "cell_type": "code",
      "execution_count": null,
      "metadata": {
        "id": "y5khxbi53_mJ"
      },
      "outputs": [],
      "source": [
        "y = StandardScaler()\n",
        "dependente_scaler = y.fit_transform(dependente.reshape(-1,1))"
      ]
    },
    {
      "cell_type": "code",
      "execution_count": null,
      "metadata": {
        "id": "VFsyFWtC3gLe"
      },
      "outputs": [],
      "source": [
        "from sklearn.model_selection import KFold\n",
        "from sklearn.model_selection import cross_val_score"
      ]
    },
    {
      "cell_type": "code",
      "execution_count": null,
      "metadata": {
        "id": "AwKcmfAS3gLg"
      },
      "outputs": [],
      "source": [
        "# Separando os dados em folds\n",
        "kfold = KFold(n_splits = 15, shuffle=True, random_state = 5)"
      ]
    },
    {
      "cell_type": "code",
      "execution_count": null,
      "metadata": {
        "id": "i8R3DHwF3gLg"
      },
      "outputs": [],
      "source": [
        "# Criando o modelo\n",
        "from sklearn.svm import SVR\n",
        "modelo = SVR(kernel='rbf')\n",
        "resultado = cross_val_score(modelo, independente_scaler, dependente_scaler.ravel(), cv = kfold)\n",
        "resultado"
      ]
    },
    {
      "cell_type": "code",
      "execution_count": null,
      "metadata": {
        "id": "6xzv5UHd3gLh"
      },
      "outputs": [],
      "source": [
        "# Usamos a média e o desvio padrão\n",
        "print(\"Coeficiente de Determinação médio: %.2f%%\" % (resultado.mean() * 100.0))"
      ]
    },
    {
      "cell_type": "markdown",
      "metadata": {
        "id": "9uo9IM_V2nph"
      },
      "source": [
        "**RESULTADOS:**\n",
        "\n",
        "**REGRESSÃO LINEAR SIMPLES:** R^2 = 0,57/0,60; RMSE = 99315,5; R^2 Validação Cruzada: 55,97%\n",
        "\n",
        "**REGRESSÃO LINEAR MÚLTIPLA:** R^2 = 0,73/0,68; RMSE = 96087,3; R^2 Validação Cruzada: 69,25%\n",
        "\n",
        "**REGRESSÃO POLINOMIAL:** R^2 = 0,59/0,54; RMSE = 114670,6.\n",
        "\n",
        "**REGRESSÃO SVR:** R^2 = 0,87/0,81; RMSE = 73422,7. R^2 Validação Cruzada: 82,37%."
      ]
    },
    {
      "cell_type": "markdown",
      "metadata": {
        "id": "N3OZHJFl2npi"
      },
      "source": [
        "## **REGRESSÃO COM ÁRVORE DE DECISÃO**"
      ]
    },
    {
      "cell_type": "markdown",
      "metadata": {
        "id": "0tAem7qwPVhF"
      },
      "source": [
        "https://scikit-learn.org/stable/modules/tree.html#regression"
      ]
    },
    {
      "cell_type": "code",
      "execution_count": null,
      "metadata": {
        "id": "ka5_F-RwHkLb"
      },
      "outputs": [],
      "source": [
        "df.head(2)"
      ]
    },
    {
      "cell_type": "code",
      "execution_count": null,
      "metadata": {
        "id": "PSvXJHP3HkLc"
      },
      "outputs": [],
      "source": [
        "independente = df.iloc[:, 0:3].values\n",
        "independente"
      ]
    },
    {
      "cell_type": "code",
      "execution_count": null,
      "metadata": {
        "id": "x3JRhqbFHkLd"
      },
      "outputs": [],
      "source": [
        "independente.shape"
      ]
    },
    {
      "cell_type": "code",
      "execution_count": null,
      "metadata": {
        "id": "enBgBJlRHkLd"
      },
      "outputs": [],
      "source": [
        "dependente = df.iloc[:, 3].values\n",
        "dependente"
      ]
    },
    {
      "cell_type": "code",
      "execution_count": null,
      "metadata": {
        "id": "ChyvkvdhHy3l"
      },
      "outputs": [],
      "source": [
        "dependente.shape"
      ]
    },
    {
      "cell_type": "code",
      "execution_count": null,
      "metadata": {
        "id": "F66i09NYHkLe"
      },
      "outputs": [],
      "source": [
        "from sklearn.model_selection import train_test_split\n",
        "x_treino, x_teste, y_treino, y_teste = train_test_split(independente, dependente, test_size = 0.3, random_state = 0)"
      ]
    },
    {
      "cell_type": "code",
      "execution_count": null,
      "metadata": {
        "id": "T59uRIMSHkLe"
      },
      "outputs": [],
      "source": [
        "x_treino.shape, x_teste.shape"
      ]
    },
    {
      "cell_type": "code",
      "execution_count": null,
      "metadata": {
        "id": "AGQ6_Yp8H8Jk"
      },
      "outputs": [],
      "source": [
        "y_treino.shape, y_teste.shape"
      ]
    },
    {
      "cell_type": "code",
      "execution_count": null,
      "metadata": {
        "id": "xekvfhT7hWgM"
      },
      "outputs": [],
      "source": [
        "from sklearn.tree import DecisionTreeRegressor\n",
        "arvore = DecisionTreeRegressor(max_depth=5, random_state=10)\n",
        "arvore.fit(x_treino, y_treino)"
      ]
    },
    {
      "cell_type": "code",
      "execution_count": null,
      "metadata": {
        "id": "9N8PKjeLhnwm"
      },
      "outputs": [],
      "source": [
        "arvore.score(x_treino, y_treino)"
      ]
    },
    {
      "cell_type": "markdown",
      "metadata": {
        "id": "-4H1NHKAMTMx"
      },
      "source": [
        "**TESTE**"
      ]
    },
    {
      "cell_type": "code",
      "execution_count": null,
      "metadata": {
        "id": "fnRicPdUhtEV"
      },
      "outputs": [],
      "source": [
        "arvore.score(x_teste, y_teste)"
      ]
    },
    {
      "cell_type": "code",
      "execution_count": null,
      "metadata": {
        "id": "iUUoAtpBh3gv"
      },
      "outputs": [],
      "source": [
        "previsoes_teste = arvore.predict(x_teste)\n",
        "previsoes_teste"
      ]
    },
    {
      "cell_type": "code",
      "execution_count": null,
      "metadata": {
        "id": "AbwmfJgLh8wk"
      },
      "outputs": [],
      "source": [
        "y_teste"
      ]
    },
    {
      "cell_type": "markdown",
      "metadata": {
        "id": "lKWJ-81bMyZP"
      },
      "source": [
        "**MÉTRICAS**"
      ]
    },
    {
      "cell_type": "code",
      "execution_count": null,
      "metadata": {
        "id": "eAErxalxMyZQ"
      },
      "outputs": [],
      "source": [
        "from sklearn.metrics import mean_absolute_error, mean_squared_error"
      ]
    },
    {
      "cell_type": "code",
      "execution_count": null,
      "metadata": {
        "id": "o7shpq0eMyZR"
      },
      "outputs": [],
      "source": [
        "# Erro médio Absoluto\n",
        "mean_absolute_error(y_teste, previsoes_teste)"
      ]
    },
    {
      "cell_type": "code",
      "execution_count": null,
      "metadata": {
        "id": "UCxNMPjvMyZS"
      },
      "outputs": [],
      "source": [
        "# Erro quadrático médio\n",
        "mean_squared_error(y_teste, previsoes_teste)"
      ]
    },
    {
      "cell_type": "code",
      "execution_count": null,
      "metadata": {
        "id": "-i_NBmScMyZS"
      },
      "outputs": [],
      "source": [
        "# Raiz do erro quadrático médio (RMSE)\n",
        "np.sqrt(mean_squared_error(y_teste, previsoes_teste))"
      ]
    },
    {
      "cell_type": "markdown",
      "metadata": {
        "id": "KlGC2Y7eNJIH"
      },
      "source": [
        "### **Validação Cruzada**"
      ]
    },
    {
      "cell_type": "code",
      "execution_count": null,
      "metadata": {
        "id": "_uZCiCebNJII"
      },
      "outputs": [],
      "source": [
        "from sklearn.model_selection import KFold\n",
        "from sklearn.model_selection import cross_val_score"
      ]
    },
    {
      "cell_type": "code",
      "execution_count": null,
      "metadata": {
        "id": "dzXlSwOHNJIJ"
      },
      "outputs": [],
      "source": [
        "# Separando os dados em folds\n",
        "kfold = KFold(n_splits = 15, shuffle=True, random_state = 5)"
      ]
    },
    {
      "cell_type": "code",
      "execution_count": null,
      "metadata": {
        "id": "JOzI7g_kNJIJ"
      },
      "outputs": [],
      "source": [
        "# Criando o modelo\n",
        "from sklearn.tree import DecisionTreeRegressor\n",
        "modelo = DecisionTreeRegressor(max_depth=5, random_state=10)\n",
        "resultado = cross_val_score(modelo, independente, dependente, cv = kfold)\n",
        "resultado"
      ]
    },
    {
      "cell_type": "code",
      "execution_count": null,
      "metadata": {
        "id": "k9_kKBtYNJIK"
      },
      "outputs": [],
      "source": [
        "# Usamos a média e o desvio padrão\n",
        "print(\"Coeficiente de Determinação Médio: %.2f%%\" % (resultado.mean() * 100.0))"
      ]
    },
    {
      "cell_type": "markdown",
      "metadata": {
        "id": "T-iYcZo4NJIL"
      },
      "source": [
        "**RESULTADOS:**\n",
        "\n",
        "**REGRESSÃO LINEAR SIMPLES:** R^2 = 0,57/0,60; RMSE = 99315,5; R^2 Validação Cruzada: 55,97%\n",
        "\n",
        "**REGRESSÃO LINEAR MÚLTIPLA:** R^2 = 0,73/0,68; RMSE = 96087,3; R^2 Validação Cruzada: 69,25%\n",
        "\n",
        "**REGRESSÃO POLINOMIAL:** R^2 = 0,59/0,54; RMSE = 114670,6.\n",
        "\n",
        "**REGRESSÃO SVR:** R^2 = 0,87/0,81; RMSE = 73422,7. R^2 Validação Cruzada: 82,37%.\n",
        "\n",
        "**REGRESSÃO ÁRVORE DE DECISÃO:** R^2 = 0,91/0,83; RMSE = 71114,5. R^2 Validação Cruzada: 74,60%."
      ]
    },
    {
      "cell_type": "markdown",
      "metadata": {
        "id": "em7docfu_mvB"
      },
      "source": [
        "## **REGRESSÃO COM RANDOM FOREST**"
      ]
    },
    {
      "cell_type": "markdown",
      "metadata": {
        "id": "XxohwrvT_xVI"
      },
      "source": [
        "https://scikit-learn.org/stable/modules/generated/sklearn.ensemble.RandomForestRegressor.html"
      ]
    },
    {
      "cell_type": "code",
      "execution_count": null,
      "metadata": {
        "id": "BreuwClMAqSa"
      },
      "outputs": [],
      "source": [
        "df.head(2)"
      ]
    },
    {
      "cell_type": "code",
      "execution_count": null,
      "metadata": {
        "id": "L9IfgWrjAqSb"
      },
      "outputs": [],
      "source": [
        "independente = df.iloc[:, 0:3].values\n",
        "independente"
      ]
    },
    {
      "cell_type": "code",
      "execution_count": null,
      "metadata": {
        "id": "fzFtVk9JAqSc"
      },
      "outputs": [],
      "source": [
        "independente.shape"
      ]
    },
    {
      "cell_type": "code",
      "execution_count": null,
      "metadata": {
        "id": "dPZbKG7yAqSd"
      },
      "outputs": [],
      "source": [
        "dependente = df.iloc[:, 3].values\n",
        "dependente"
      ]
    },
    {
      "cell_type": "code",
      "execution_count": null,
      "metadata": {
        "id": "mKrN8FpVAqSe"
      },
      "outputs": [],
      "source": [
        "dependente.shape"
      ]
    },
    {
      "cell_type": "code",
      "execution_count": null,
      "metadata": {
        "id": "FBV-LWNCAqSe"
      },
      "outputs": [],
      "source": [
        "from sklearn.model_selection import train_test_split\n",
        "x_treino, x_teste, y_treino, y_teste = train_test_split(independente, dependente, test_size = 0.3, random_state = 0)"
      ]
    },
    {
      "cell_type": "code",
      "execution_count": null,
      "metadata": {
        "id": "smtq2nvRAqSf"
      },
      "outputs": [],
      "source": [
        "x_treino.shape, x_teste.shape"
      ]
    },
    {
      "cell_type": "code",
      "execution_count": null,
      "metadata": {
        "id": "cmGJ3PJVAqSf"
      },
      "outputs": [],
      "source": [
        "y_treino.shape, y_teste.shape"
      ]
    },
    {
      "cell_type": "code",
      "execution_count": null,
      "metadata": {
        "id": "jq-8R7XpB9f3"
      },
      "outputs": [],
      "source": [
        "from sklearn.ensemble import RandomForestRegressor"
      ]
    },
    {
      "cell_type": "code",
      "execution_count": null,
      "metadata": {
        "id": "6dN6ggkVBHH4"
      },
      "outputs": [],
      "source": [
        "random = RandomForestRegressor(n_estimators=60, criterion='squared_error', max_depth=5, random_state = 10)\n",
        "random.fit(x_treino, y_treino)"
      ]
    },
    {
      "cell_type": "code",
      "execution_count": null,
      "metadata": {
        "id": "RtbJdyMVBHH6"
      },
      "outputs": [],
      "source": [
        "random.score(x_treino, y_treino)"
      ]
    },
    {
      "cell_type": "markdown",
      "metadata": {
        "id": "l6-F9ZQxBHH7"
      },
      "source": [
        "**TESTE**"
      ]
    },
    {
      "cell_type": "code",
      "execution_count": null,
      "metadata": {
        "id": "gBApN-jaBHH7"
      },
      "outputs": [],
      "source": [
        "random.score(x_teste, y_teste)"
      ]
    },
    {
      "cell_type": "code",
      "execution_count": null,
      "metadata": {
        "id": "Y51B43YTBHH8"
      },
      "outputs": [],
      "source": [
        "previsoes_teste = random.predict(x_teste)\n",
        "previsoes_teste"
      ]
    },
    {
      "cell_type": "code",
      "execution_count": null,
      "metadata": {
        "id": "B48-pZ7eBHH9"
      },
      "outputs": [],
      "source": [
        "y_teste"
      ]
    },
    {
      "cell_type": "markdown",
      "metadata": {
        "id": "l1m3gPLhBHH9"
      },
      "source": [
        "**MÉTRICAS**"
      ]
    },
    {
      "cell_type": "code",
      "execution_count": null,
      "metadata": {
        "id": "x-D_BJZ-BHH9"
      },
      "outputs": [],
      "source": [
        "from sklearn.metrics import mean_absolute_error, mean_squared_error"
      ]
    },
    {
      "cell_type": "code",
      "execution_count": null,
      "metadata": {
        "id": "wvRaZ50aBHH-"
      },
      "outputs": [],
      "source": [
        "# Erro médio Absoluto\n",
        "mean_absolute_error(y_teste, previsoes_teste)"
      ]
    },
    {
      "cell_type": "code",
      "execution_count": null,
      "metadata": {
        "id": "Fjju8AAbBHH_"
      },
      "outputs": [],
      "source": [
        "# Erro quadrático médio\n",
        "mean_squared_error(y_teste, previsoes_teste)"
      ]
    },
    {
      "cell_type": "code",
      "execution_count": null,
      "metadata": {
        "id": "L_4yAmxxBHH_"
      },
      "outputs": [],
      "source": [
        "# Raiz do erro quadrático médio (RMSE)\n",
        "np.sqrt(mean_squared_error(y_teste, previsoes_teste))"
      ]
    },
    {
      "cell_type": "markdown",
      "metadata": {
        "id": "mLyVoeblBHIA"
      },
      "source": [
        "### **Validação Cruzada**"
      ]
    },
    {
      "cell_type": "code",
      "execution_count": null,
      "metadata": {
        "id": "TQiW7o6mBHIA"
      },
      "outputs": [],
      "source": [
        "from sklearn.model_selection import KFold\n",
        "from sklearn.model_selection import cross_val_score"
      ]
    },
    {
      "cell_type": "code",
      "execution_count": null,
      "metadata": {
        "id": "u6c0cLchBHIB"
      },
      "outputs": [],
      "source": [
        "# Separando os dados em folds\n",
        "kfold = KFold(n_splits = 15, shuffle=True, random_state = 5)"
      ]
    },
    {
      "cell_type": "code",
      "execution_count": null,
      "metadata": {
        "id": "bfcTtlMtBHIB"
      },
      "outputs": [],
      "source": [
        "# Criando o modelo\n",
        "from sklearn.ensemble import RandomForestRegressor\n",
        "modelo = RandomForestRegressor(n_estimators=60, criterion='squared_error', max_depth=5, random_state = 10)\n",
        "resultado = cross_val_score(modelo, independente, dependente, cv = kfold)\n",
        "resultado"
      ]
    },
    {
      "cell_type": "code",
      "execution_count": null,
      "metadata": {
        "id": "k8dR6MeCBHIC"
      },
      "outputs": [],
      "source": [
        "# Usamos a média e o desvio padrão\n",
        "print(\"Coeficiente de Determinação Médio: %.2f%%\" % (resultado.mean() * 100.0))"
      ]
    },
    {
      "cell_type": "markdown",
      "metadata": {
        "id": "-5fEdSH-BHIC"
      },
      "source": [
        "**RESULTADOS:**\n",
        "\n",
        "**REGRESSÃO LINEAR SIMPLES:** R^2 = 0,57/0,60; RMSE = 99315,5; R^2 Validação Cruzada: 55,97%\n",
        "\n",
        "**REGRESSÃO LINEAR MÚLTIPLA:** R^2 = 0,73/0,68; RMSE = 96087,3; R^2 Validação Cruzada: 69,25%\n",
        "\n",
        "**REGRESSÃO POLINOMIAL:** R^2 = 0,59/0,54; RMSE = 114670,6.\n",
        "\n",
        "**REGRESSÃO SVR:** R^2 = 0,87/0,81; RMSE = 73422,7. R^2 Validação Cruzada: 82,37%.\n",
        "\n",
        "**REGRESSÃO ÁRVORE DE DECISÃO:** R^2 = 0,91/0,83; RMSE = 71114,5. R^2 Validação Cruzada: 74,60%.\n",
        "\n",
        "**REGRESSÃO COM RANDOM FOREST:** R^2 = 0,92/0,85; RMSE = 66729,3. R^2 Validação Cruzada: 82,85%."
      ]
    },
    {
      "cell_type": "markdown",
      "metadata": {
        "id": "texm7_wzD3ZN"
      },
      "source": [
        "## **REGRESSÃO COM XGBOOST**"
      ]
    },
    {
      "cell_type": "markdown",
      "metadata": {
        "id": "9bFhbBKgEnmc"
      },
      "source": [
        "https://xgboost.readthedocs.io/en/latest/python/python_api.html#xgboost.XGBRegressor"
      ]
    },
    {
      "cell_type": "code",
      "execution_count": null,
      "metadata": {
        "id": "S1kDY4K6LZ3o"
      },
      "outputs": [],
      "source": [
        "df.head(2)"
      ]
    },
    {
      "cell_type": "code",
      "execution_count": null,
      "metadata": {
        "id": "gJxxUoJfLZ3q"
      },
      "outputs": [],
      "source": [
        "independente = df.iloc[:, 0:3].values\n",
        "independente"
      ]
    },
    {
      "cell_type": "code",
      "execution_count": null,
      "metadata": {
        "id": "X748p6-1LZ3r"
      },
      "outputs": [],
      "source": [
        "independente.shape"
      ]
    },
    {
      "cell_type": "code",
      "execution_count": null,
      "metadata": {
        "id": "T6PtTe5SLZ3r"
      },
      "outputs": [],
      "source": [
        "dependente = df.iloc[:, 3].values"
      ]
    },
    {
      "cell_type": "code",
      "execution_count": null,
      "metadata": {
        "id": "IVvAP3tJLZ3s"
      },
      "outputs": [],
      "source": [
        "dependente.shape"
      ]
    },
    {
      "cell_type": "code",
      "execution_count": null,
      "metadata": {
        "id": "-R3GlRD8LZ3s"
      },
      "outputs": [],
      "source": [
        "from sklearn.model_selection import train_test_split\n",
        "x_treino, x_teste, y_treino, y_teste = train_test_split(independente, dependente, test_size = 0.3, random_state = 0)"
      ]
    },
    {
      "cell_type": "code",
      "execution_count": null,
      "metadata": {
        "id": "2ZOzrZh1LZ3t"
      },
      "outputs": [],
      "source": [
        "x_treino.shape, x_teste.shape"
      ]
    },
    {
      "cell_type": "code",
      "execution_count": null,
      "metadata": {
        "id": "gXsNjojnEoyA"
      },
      "outputs": [],
      "source": [
        "from xgboost import XGBRegressor"
      ]
    },
    {
      "cell_type": "code",
      "execution_count": null,
      "metadata": {
        "id": "ggIQN7N9LZ3v"
      },
      "outputs": [],
      "source": [
        "xgboost = XGBRegressor(n_estimators=180, max_depth=3, learning_rate=0.05, objective=\"reg:squarederror\", random_state=10)\n",
        "xgboost.fit(x_treino, y_treino)"
      ]
    },
    {
      "cell_type": "code",
      "execution_count": null,
      "metadata": {
        "id": "qGniar4pLZ3v"
      },
      "outputs": [],
      "source": [
        "xgboost.score(x_treino, y_treino)"
      ]
    },
    {
      "cell_type": "markdown",
      "metadata": {
        "id": "Ag0SWRYdLZ3w"
      },
      "source": [
        "**TESTE**"
      ]
    },
    {
      "cell_type": "code",
      "execution_count": null,
      "metadata": {
        "id": "gPggEGb0LZ3w"
      },
      "outputs": [],
      "source": [
        "xgboost.score(x_teste, y_teste)"
      ]
    },
    {
      "cell_type": "code",
      "execution_count": null,
      "metadata": {
        "id": "LZ7WLVF4LZ3x"
      },
      "outputs": [],
      "source": [
        "previsoes_teste = xgboost.predict(x_teste)"
      ]
    },
    {
      "cell_type": "code",
      "execution_count": null,
      "metadata": {
        "id": "qXY1DEm2TPrs"
      },
      "outputs": [],
      "source": [
        "# Fazendo previsões para valores distintos\n",
        "valor_casa = xgboost.predict([[6,20,12]])\n",
        "valor_casa"
      ]
    },
    {
      "cell_type": "markdown",
      "metadata": {
        "id": "eupiQ6n9LZ3y"
      },
      "source": [
        "**MÉTRICAS**"
      ]
    },
    {
      "cell_type": "code",
      "execution_count": null,
      "metadata": {
        "id": "mNFhiP0nLZ3z"
      },
      "outputs": [],
      "source": [
        "from sklearn.metrics import mean_absolute_error, mean_squared_error"
      ]
    },
    {
      "cell_type": "code",
      "execution_count": null,
      "metadata": {
        "id": "ptcF4Z3QLZ3z"
      },
      "outputs": [],
      "source": [
        "# Erro médio Absoluto\n",
        "mean_absolute_error(y_teste, previsoes_teste)"
      ]
    },
    {
      "cell_type": "code",
      "execution_count": null,
      "metadata": {
        "id": "UW9rH3WyLZ30"
      },
      "outputs": [],
      "source": [
        "# Raiz do erro quadrático médio (RMSE)\n",
        "np.sqrt(mean_squared_error(y_teste, previsoes_teste))"
      ]
    },
    {
      "cell_type": "markdown",
      "metadata": {
        "id": "mopLhYaKLZ31"
      },
      "source": [
        "### **Validação Cruzada**"
      ]
    },
    {
      "cell_type": "code",
      "execution_count": null,
      "metadata": {
        "id": "EW9FdkEELZ31"
      },
      "outputs": [],
      "source": [
        "from sklearn.model_selection import KFold\n",
        "from sklearn.model_selection import cross_val_score"
      ]
    },
    {
      "cell_type": "code",
      "execution_count": null,
      "metadata": {
        "id": "-duD4L-4LZ32"
      },
      "outputs": [],
      "source": [
        "# Separando os dados em folds\n",
        "kfold = KFold(n_splits = 15, shuffle=True, random_state = 5)"
      ]
    },
    {
      "cell_type": "code",
      "execution_count": null,
      "metadata": {
        "id": "KTJuA6GpLZ32"
      },
      "outputs": [],
      "source": [
        "# Criando o modelo\n",
        "from xgboost import XGBRegressor\n",
        "modelo = XGBRegressor(n_estimators=180, max_depth=3, learning_rate=0.05, objective = \"reg:squarederror\")\n",
        "resultado = cross_val_score(modelo, independente, dependente, cv = kfold)\n",
        "resultado"
      ]
    },
    {
      "cell_type": "code",
      "execution_count": null,
      "metadata": {
        "id": "6OLrwVIQLZ33"
      },
      "outputs": [],
      "source": [
        "# Usamos a média e o desvio padrão\n",
        "print(\"Coeficiente de determinação Médio: %.2f%%\" % (resultado.mean() * 100.0))"
      ]
    },
    {
      "cell_type": "markdown",
      "metadata": {
        "id": "y4gwkctLLZ33"
      },
      "source": [
        "**RESULTADOS:**\n",
        "\n",
        "**REGRESSÃO LINEAR SIMPLES:** R^2 = 0,57/0,60; RMSE = 99315,5; R^2 Validação Cruzada: 55,97%\n",
        "\n",
        "**REGRESSÃO LINEAR MÚLTIPLA:** R^2 = 0,73/0,68; RMSE = 96087,3; R^2 Validação Cruzada: 69,25%\n",
        "\n",
        "**REGRESSÃO POLINOMIAL:** R^2 = 0,59/0,54; RMSE = 114670,6.\n",
        "\n",
        "**REGRESSÃO SVR:** R^2 = 0,87/0,81; RMSE = 73422,7. R^2 Validação Cruzada: 82,37%.\n",
        "\n",
        "**REGRESSÃO ÁRVORE DE DECISÃO:** R^2 = 0,91/0,83; RMSE = 71114,5. R^2 Validação Cruzada: 74,60%.\n",
        "\n",
        "**REGRESSÃO COM RANDOM FOREST:** R^2 = 0,92/0,85; RMSE = 66729,3. R^2 Validação Cruzada: 82,85%.\n",
        "\n",
        "**REGRESSÃO COM XGBOOST:** R^2 = 0,93/0,84; RMSE = 67788,8. R^2 Validação Cruzada: 83,22%."
      ]
    },
    {
      "cell_type": "markdown",
      "metadata": {
        "id": "5Ml9LC8_P_Us"
      },
      "source": [
        "## **REGRESSÃO COM LIGHT GBM**"
      ]
    },
    {
      "cell_type": "markdown",
      "metadata": {
        "id": "sLqV3RvmQHiI"
      },
      "source": [
        "https://lightgbm.readthedocs.io/en/latest/pythonapi/lightgbm.LGBMRegressor.html"
      ]
    },
    {
      "cell_type": "code",
      "execution_count": null,
      "metadata": {
        "id": "hqvRU7h6Q9oc"
      },
      "outputs": [],
      "source": [
        "# Instalação do Algoritmo\n",
        "!pip install lightgbm"
      ]
    },
    {
      "cell_type": "code",
      "execution_count": null,
      "metadata": {
        "id": "TmOsSq05QgB0"
      },
      "outputs": [],
      "source": [
        "df.head(2)"
      ]
    },
    {
      "cell_type": "code",
      "execution_count": null,
      "metadata": {
        "id": "zyubjorGQgB2"
      },
      "outputs": [],
      "source": [
        "independente = df.iloc[:, 0:3].values\n",
        "independente"
      ]
    },
    {
      "cell_type": "code",
      "execution_count": null,
      "metadata": {
        "id": "r08QXJHHQgB2"
      },
      "outputs": [],
      "source": [
        "independente.shape"
      ]
    },
    {
      "cell_type": "code",
      "execution_count": null,
      "metadata": {
        "id": "mWxdToSwQgB3"
      },
      "outputs": [],
      "source": [
        "dependente = df.iloc[:, 3].values"
      ]
    },
    {
      "cell_type": "code",
      "execution_count": null,
      "metadata": {
        "id": "G6Rvs0KHQgB4"
      },
      "outputs": [],
      "source": [
        "dependente.shape"
      ]
    },
    {
      "cell_type": "code",
      "execution_count": null,
      "metadata": {
        "id": "uaWSEem8QgB4"
      },
      "outputs": [],
      "source": [
        "from sklearn.model_selection import train_test_split\n",
        "x_treino, x_teste, y_treino, y_teste = train_test_split(independente, dependente, test_size = 0.3, random_state = 0)"
      ]
    },
    {
      "cell_type": "code",
      "execution_count": null,
      "metadata": {
        "id": "dgMg2ZJ2QgB5"
      },
      "outputs": [],
      "source": [
        "x_treino.shape, x_teste.shape"
      ]
    },
    {
      "cell_type": "code",
      "execution_count": null,
      "metadata": {
        "id": "q4V61kANQgB5"
      },
      "outputs": [],
      "source": [
        "import lightgbm as lgb"
      ]
    },
    {
      "cell_type": "code",
      "execution_count": null,
      "metadata": {
        "id": "Sk8UBLYrQgB6"
      },
      "outputs": [],
      "source": [
        "lgbm = lgb.LGBMRegressor(num_leaves=50, max_depth=3, learning_rate=0.1, n_estimators=50, random_state=10)\n",
        "lgbm.fit(x_treino, y_treino)"
      ]
    },
    {
      "cell_type": "code",
      "execution_count": null,
      "metadata": {
        "id": "-fk3JlxnQgB6"
      },
      "outputs": [],
      "source": [
        "lgbm.score(x_treino, y_treino)"
      ]
    },
    {
      "cell_type": "markdown",
      "metadata": {
        "id": "6vaV_m3fQgB7"
      },
      "source": [
        "**TESTE**"
      ]
    },
    {
      "cell_type": "code",
      "execution_count": null,
      "metadata": {
        "id": "0e_-0p0EQgB7"
      },
      "outputs": [],
      "source": [
        "lgbm.score(x_teste, y_teste)"
      ]
    },
    {
      "cell_type": "code",
      "execution_count": null,
      "metadata": {
        "id": "SuRMp_IuQgB8"
      },
      "outputs": [],
      "source": [
        "previsoes_teste = lgbm.predict(x_teste)"
      ]
    },
    {
      "cell_type": "code",
      "execution_count": null,
      "metadata": {
        "id": "vHgIjE5hTYEW"
      },
      "outputs": [],
      "source": [
        "# Fazendo previsões para valores distintos\n",
        "valor_casa = lgbm.predict([[8,12,25]])\n",
        "valor_casa"
      ]
    },
    {
      "cell_type": "markdown",
      "metadata": {
        "id": "TB4eq5DYQgB8"
      },
      "source": [
        "**MÉTRICAS**"
      ]
    },
    {
      "cell_type": "code",
      "execution_count": null,
      "metadata": {
        "id": "bUuxOSjGQgB9"
      },
      "outputs": [],
      "source": [
        "from sklearn.metrics import mean_absolute_error, mean_squared_error"
      ]
    },
    {
      "cell_type": "code",
      "execution_count": null,
      "metadata": {
        "id": "oD4PttzoQgB9"
      },
      "outputs": [],
      "source": [
        "# Erro médio Absoluto\n",
        "mean_absolute_error(y_teste, previsoes_teste)"
      ]
    },
    {
      "cell_type": "code",
      "execution_count": null,
      "metadata": {
        "id": "Dql6Ds3rQgB-"
      },
      "outputs": [],
      "source": [
        "# Raiz do erro quadrático médio (RMSE)\n",
        "np.sqrt(mean_squared_error(y_teste, previsoes_teste))"
      ]
    },
    {
      "cell_type": "markdown",
      "metadata": {
        "id": "HiSSyx4qQgB_"
      },
      "source": [
        "### **Validação Cruzada**"
      ]
    },
    {
      "cell_type": "code",
      "execution_count": null,
      "metadata": {
        "id": "qoP8WdOAQgB_"
      },
      "outputs": [],
      "source": [
        "from sklearn.model_selection import KFold\n",
        "from sklearn.model_selection import cross_val_score"
      ]
    },
    {
      "cell_type": "code",
      "execution_count": null,
      "metadata": {
        "id": "OiBBJQ5oQgCA"
      },
      "outputs": [],
      "source": [
        "# Separando os dados em folds\n",
        "kfold = KFold(n_splits = 15, shuffle=True, random_state = 5)"
      ]
    },
    {
      "cell_type": "code",
      "execution_count": null,
      "metadata": {
        "id": "yzpxQlPpQgCA"
      },
      "outputs": [],
      "source": [
        "# Criando o modelo\n",
        "import lightgbm as lgb\n",
        "modelo = lgb.LGBMRegressor(num_leaves=50, max_depth=3, learning_rate=0.1, n_estimators=50)\n",
        "resultado = cross_val_score(modelo, independente, dependente, cv = kfold)\n",
        "resultado"
      ]
    },
    {
      "cell_type": "code",
      "execution_count": null,
      "metadata": {
        "id": "eDE7L7RBQgCB"
      },
      "outputs": [],
      "source": [
        "# Usamos a média e o desvio padrão\n",
        "print(\"Coeficiente de Determinação Médio: %.2f%%\" % (resultado.mean() * 100.0))"
      ]
    },
    {
      "cell_type": "markdown",
      "metadata": {
        "id": "vxcj5kwGQgCC"
      },
      "source": [
        "**RESULTADOS:**\n",
        "\n",
        "**REGRESSÃO LINEAR SIMPLES:** R^2 = 0,57/0,60; RMSE = 99315,5; R^2 Validação Cruzada: 55,97%\n",
        "\n",
        "**REGRESSÃO LINEAR MÚLTIPLA:** R^2 = 0,73/0,68; RMSE = 96087,3; R^2 Validação Cruzada: 69,25%\n",
        "\n",
        "**REGRESSÃO POLINOMIAL:** R^2 = 0,59/0,54; RMSE = 114670,6.\n",
        "\n",
        "**REGRESSÃO SVR:** R^2 = 0,87/0,81; RMSE = 73422,7. R^2 Validação Cruzada: 82,37%.\n",
        "\n",
        "**REGRESSÃO ÁRVORE DE DECISÃO:** R^2 = 0,91/0,83; RMSE = 71114,5. R^2 Validação Cruzada: 74,60%.\n",
        "\n",
        "**REGRESSÃO COM RANDOM FOREST:** R^2 = 0,92/0,85; RMSE = 66729,3. R^2 Validação Cruzada: 82,85%.\n",
        "\n",
        "**REGRESSÃO COM XGBOOST:** R^2 = 0,93/0,84; RMSE = 67788,8. R^2 Validação Cruzada: 83,22%.\n",
        "\n",
        "**REGRESSÃO COM LIGHT GBM:** R^2 = 0,88/0,82; RMSE = 71906,4. R^2 Validação Cruzada: 82,38%."
      ]
    },
    {
      "cell_type": "markdown",
      "metadata": {
        "id": "gZsVtfKfQgCC"
      },
      "source": [
        "## **REGRESSÃO COM CATBOOST**"
      ]
    },
    {
      "cell_type": "markdown",
      "metadata": {
        "id": "5GPeGeg-VXsz"
      },
      "source": [
        "https://catboost.ai/en/docs/concepts/python-reference_catboostregressor"
      ]
    },
    {
      "cell_type": "code",
      "execution_count": null,
      "metadata": {
        "colab": {
          "background_save": true
        },
        "id": "NuLKDgUGVXs0"
      },
      "outputs": [],
      "source": [
        "#Instalação\n",
        "!pip install catboost"
      ]
    },
    {
      "cell_type": "code",
      "execution_count": null,
      "metadata": {
        "colab": {
          "background_save": true
        },
        "id": "ld2ULQzLVXs1"
      },
      "outputs": [],
      "source": [
        "df.head(2)"
      ]
    },
    {
      "cell_type": "code",
      "execution_count": null,
      "metadata": {
        "colab": {
          "background_save": true
        },
        "id": "1nReQ2gUVXs2"
      },
      "outputs": [],
      "source": [
        "independente = df.iloc[:, 0:3].values\n",
        "independente"
      ]
    },
    {
      "cell_type": "code",
      "execution_count": null,
      "metadata": {
        "colab": {
          "background_save": true
        },
        "id": "rDPRCUFUVXs3"
      },
      "outputs": [],
      "source": [
        "independente.shape"
      ]
    },
    {
      "cell_type": "code",
      "execution_count": null,
      "metadata": {
        "colab": {
          "background_save": true
        },
        "id": "v_vJst49VXs3"
      },
      "outputs": [],
      "source": [
        "dependente = df.iloc[:, 3].values"
      ]
    },
    {
      "cell_type": "code",
      "execution_count": null,
      "metadata": {
        "colab": {
          "background_save": true
        },
        "id": "CuJFrX_1VXs4"
      },
      "outputs": [],
      "source": [
        "dependente.shape"
      ]
    },
    {
      "cell_type": "code",
      "execution_count": null,
      "metadata": {
        "colab": {
          "background_save": true
        },
        "id": "ZiFMJQRNVXs4"
      },
      "outputs": [],
      "source": [
        "from sklearn.model_selection import train_test_split\n",
        "x_treino, x_teste, y_treino, y_teste = train_test_split(independente, dependente, test_size = 0.3, random_state = 0)"
      ]
    },
    {
      "cell_type": "code",
      "execution_count": null,
      "metadata": {
        "colab": {
          "background_save": true
        },
        "id": "7S3QP4XEVXs5"
      },
      "outputs": [],
      "source": [
        "x_treino.shape, x_teste.shape"
      ]
    },
    {
      "cell_type": "code",
      "execution_count": null,
      "metadata": {
        "colab": {
          "background_save": true
        },
        "id": "Mvq49H8TVXs5"
      },
      "outputs": [],
      "source": [
        "from catboost.core import CatBoostRegressor"
      ]
    },
    {
      "cell_type": "code",
      "execution_count": null,
      "metadata": {
        "colab": {
          "background_save": true
        },
        "id": "ElgRHg_3VXs6"
      },
      "outputs": [],
      "source": [
        "catboost = CatBoostRegressor (iterations=100, learning_rate=0.08, depth = 5, random_state = 10)\n",
        "catboost.fit(x_treino, y_treino)"
      ]
    },
    {
      "cell_type": "code",
      "execution_count": null,
      "metadata": {
        "colab": {
          "background_save": true
        },
        "id": "RYJLt365VXs6"
      },
      "outputs": [],
      "source": [
        "catboost.score(x_treino, y_treino)"
      ]
    },
    {
      "cell_type": "markdown",
      "metadata": {
        "id": "J0YqqCe_VXs7"
      },
      "source": [
        "**TESTE**"
      ]
    },
    {
      "cell_type": "code",
      "execution_count": null,
      "metadata": {
        "colab": {
          "background_save": true
        },
        "id": "Kq3ufyL1VXs7"
      },
      "outputs": [],
      "source": [
        "catboost.score(x_teste, y_teste)"
      ]
    },
    {
      "cell_type": "code",
      "execution_count": null,
      "metadata": {
        "colab": {
          "background_save": true
        },
        "id": "bbb2-5sqVXs8"
      },
      "outputs": [],
      "source": [
        "previsoes_teste = catboost.predict(x_teste)"
      ]
    },
    {
      "cell_type": "code",
      "execution_count": null,
      "metadata": {
        "colab": {
          "background_save": true
        },
        "id": "rFXFPukcYZNe"
      },
      "outputs": [],
      "source": [
        "# Fazendo previsões para valores distintos\n",
        "valor_casa = catboost.predict([[5,18,20]])\n",
        "valor_casa"
      ]
    },
    {
      "cell_type": "markdown",
      "metadata": {
        "id": "pSBW-UoFVXs8"
      },
      "source": [
        "**MÉTRICAS**"
      ]
    },
    {
      "cell_type": "code",
      "execution_count": null,
      "metadata": {
        "colab": {
          "background_save": true
        },
        "id": "dUHUBMG5VXs9"
      },
      "outputs": [],
      "source": [
        "from sklearn.metrics import mean_absolute_error, mean_squared_error"
      ]
    },
    {
      "cell_type": "code",
      "execution_count": null,
      "metadata": {
        "colab": {
          "background_save": true
        },
        "id": "lgn3ZatBVXs9"
      },
      "outputs": [],
      "source": [
        "# Erro médio Absoluto\n",
        "mean_absolute_error(y_teste, previsoes_teste)"
      ]
    },
    {
      "cell_type": "code",
      "execution_count": null,
      "metadata": {
        "colab": {
          "background_save": true
        },
        "id": "DewzTfdWVXs9"
      },
      "outputs": [],
      "source": [
        "# Raiz do erro quadrático médio (RMSE)\n",
        "np.sqrt(mean_squared_error(y_teste, previsoes_teste))"
      ]
    },
    {
      "cell_type": "markdown",
      "metadata": {
        "id": "KPym0jypVXs-"
      },
      "source": [
        "### **Validação Cruzada**"
      ]
    },
    {
      "cell_type": "code",
      "execution_count": null,
      "metadata": {
        "colab": {
          "background_save": true
        },
        "id": "oZwUBh3_VXs-"
      },
      "outputs": [],
      "source": [
        "from sklearn.model_selection import KFold\n",
        "from sklearn.model_selection import cross_val_score"
      ]
    },
    {
      "cell_type": "code",
      "execution_count": null,
      "metadata": {
        "colab": {
          "background_save": true
        },
        "id": "gJMJ1x4bVXs_"
      },
      "outputs": [],
      "source": [
        "# Separando os dados em folds\n",
        "kfold = KFold(n_splits = 15, shuffle=True, random_state = 5)"
      ]
    },
    {
      "cell_type": "code",
      "execution_count": null,
      "metadata": {
        "colab": {
          "background_save": true
        },
        "id": "TUW6Frh8VXs_"
      },
      "outputs": [],
      "source": [
        "# Criando o modelo\n",
        "from catboost.core import CatBoostRegressor\n",
        "modelo = CatBoostRegressor (iterations=100, learning_rate=0.08, depth = 5, random_state = 10)\n",
        "resultado = cross_val_score(modelo, independente, dependente, cv = kfold)\n",
        "resultado"
      ]
    },
    {
      "cell_type": "code",
      "execution_count": null,
      "metadata": {
        "colab": {
          "background_save": true
        },
        "id": "sRPAGvgQVXtA"
      },
      "outputs": [],
      "source": [
        "# Usamos a média e o desvio padrão\n",
        "print(\"Coeficiente de Determinação Médio: %.2f%%\" % (resultado.mean() * 100.0))"
      ]
    },
    {
      "cell_type": "markdown",
      "metadata": {
        "id": "7cwsGoINVXtA"
      },
      "source": [
        "**RESULTADOS:**\n",
        "\n",
        "**REGRESSÃO LINEAR SIMPLES:** R^2 = 0,57/0,60; RMSE = 99315,5; R^2 Validação Cruzada: 55,97%\n",
        "\n",
        "**REGRESSÃO LINEAR MÚLTIPLA:** R^2 = 0,73/0,68; RMSE = 96087,3; R^2 Validação Cruzada: 69,25%\n",
        "\n",
        "**REGRESSÃO POLINOMIAL:** R^2 = 0,59/0,54; RMSE = 114670,6.\n",
        "\n",
        "**REGRESSÃO SVR:** R^2 = 0,87/0,81; RMSE = 73422,7. R^2 Validação Cruzada: 82,37%.\n",
        "\n",
        "**REGRESSÃO ÁRVORE DE DECISÃO:** R^2 = 0,91/0,83; RMSE = 71114,5. R^2 Validação Cruzada: 74,60%.\n",
        "\n",
        "**REGRESSÃO COM RANDOM FOREST:** R^2 = 0,92/0,85; RMSE = 66729,3. R^2 Validação Cruzada: 82,85%.\n",
        "\n",
        "**REGRESSÃO COM XGBOOST:** R^2 = 0,93/0,84; RMSE = 67788,8. R^2 Validação Cruzada: 83,22%.\n",
        "\n",
        "**REGRESSÃO COM LIGHT GBM:** R^2 = 0,88/0,82; RMSE = 71906,4. R^2 Validação Cruzada: 82,38%.\n",
        "\n",
        "**REGRESSÃO COM CATBOOST:** R^2 = 0,90/0,84; RMSE = 69053,3 R^2 Validação Cruzada: 83,40%."
      ]
    },
    {
      "cell_type": "markdown",
      "metadata": {
        "id": "_n5ncFlgox69"
      },
      "source": []
    },
    {
      "cell_type": "markdown",
      "metadata": {
        "id": "-SI78UagmLD7"
      },
      "source": [
        "# **Salvando dados para Deploy**"
      ]
    },
    {
      "cell_type": "code",
      "execution_count": null,
      "metadata": {
        "id": "iHM2TQfjbwf9"
      },
      "outputs": [],
      "source": [
        "independente = df.iloc[:, 0:3].values\n",
        "independente"
      ]
    },
    {
      "cell_type": "code",
      "execution_count": null,
      "metadata": {
        "id": "isSCWsMPDdw6"
      },
      "outputs": [],
      "source": [
        "dependente = df.iloc[:, 3].values\n",
        "dependente"
      ]
    },
    {
      "cell_type": "code",
      "execution_count": null,
      "metadata": {
        "id": "XUYRtI5VDBXF"
      },
      "outputs": [],
      "source": [
        "np.savetxt('independente.csv', independente, delimiter=',')"
      ]
    },
    {
      "cell_type": "code",
      "execution_count": null,
      "metadata": {
        "id": "dd7lbPU3DQFO"
      },
      "outputs": [],
      "source": [
        "np.savetxt('dependente.csv', dependente, delimiter=',')"
      ]
    },
    {
      "cell_type": "markdown",
      "metadata": {
        "id": "Q6LoOxMow4Ci"
      },
      "source": [
        "# **DESAFIO 2**"
      ]
    },
    {
      "cell_type": "markdown",
      "metadata": {
        "id": "bjLFumRQxayX"
      },
      "source": [
        "DESENVOLVER E SELECIONAR O MELHOR ALGORITMO DE MACHINE LEARNING DE REGRESSÃO PARA O DATASET DO LINK A SEGUIR:"
      ]
    },
    {
      "cell_type": "markdown",
      "metadata": {
        "id": "VG8xV9wYxKk2"
      },
      "source": [
        "https://www.kaggle.com/mirichoi0218/insurance/code"
      ]
    }
  ],
  "metadata": {
    "colab": {
      "provenance": []
    },
    "kernelspec": {
      "display_name": "Python 3",
      "name": "python3"
    },
    "language_info": {
      "name": "python"
    }
  },
  "nbformat": 4,
  "nbformat_minor": 0
}